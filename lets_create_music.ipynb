{
 "cells": [
  {
   "cell_type": "markdown",
   "metadata": {},
   "source": [
    "# Generate Music wooooow"
   ]
  },
  {
   "cell_type": "markdown",
   "metadata": {},
   "source": [
    "## Prepare The data\n",
    "The dataset has been found on Kaggle : https://www.kaggle.com/datasets/soumikrakshit/classical-music-midi/"
   ]
  },
  {
   "cell_type": "markdown",
   "metadata": {},
   "source": [
    "### create a list with all the midi files"
   ]
  },
  {
   "cell_type": "code",
   "execution_count": 56,
   "metadata": {},
   "outputs": [
    {
     "name": "stdout",
     "output_type": "stream",
     "text": [
      "['data\\\\albeniz\\\\alb_esp1.mid', 'data\\\\albeniz\\\\alb_esp2.mid', 'data\\\\albeniz\\\\alb_esp3.mid', 'data\\\\albeniz\\\\alb_esp4.mid', 'data\\\\albeniz\\\\alb_esp5.mid']\n"
     ]
    }
   ],
   "source": [
    "import os\n",
    "import mido\n",
    "\n",
    "def get_midis():\n",
    "    ms = []\n",
    "\n",
    "    directory = \"data\"\n",
    "    for foldername in os.listdir(directory):\n",
    "        directory = os.path.join(\"data\", foldername)\n",
    "        for filename in os.listdir(directory):\n",
    "            if('V2'in filename): continue\n",
    "            if os.path.isfile(os.path.join(directory, filename)):\n",
    "                ms.append(os.path.join(directory, filename))\n",
    "                # print(filename)\n",
    "    return ms\n",
    "\n",
    "midis = get_midis()\n",
    "\n",
    "print(midis[:5])"
   ]
  },
  {
   "cell_type": "code",
   "execution_count": 13,
   "metadata": {},
   "outputs": [
    {
     "name": "stdout",
     "output_type": "stream",
     "text": [
      "295\n"
     ]
    }
   ],
   "source": [
    "print(len(midis))"
   ]
  },
  {
   "cell_type": "code",
   "execution_count": 57,
   "metadata": {},
   "outputs": [],
   "source": [
    "import mido\n",
    "\n",
    "file = mido.MidiFile(r'data\\albeniz\\alb_esp2.mid')\n",
    "\n",
    "track = file.tracks[1]\n",
    "\n",
    "# Iterate over all the messages in the track and remove all messages that are not notes\n",
    "for message in track:\n",
    "    # print(f'\\t{message.type}: {message.dict()}')\n",
    "    if(message.type != 'note_on' and message.type != 'note_off'):\n",
    "        # print(f'\\t{message.dict()}')\n",
    "        track.remove(message)\n",
    "        \n",
    "# for message in track:\n",
    "#     if(message.type == 'note_on'): print(f'{message.type}: {message.dict()}')\n",
    "    "
   ]
  },
  {
   "cell_type": "markdown",
   "metadata": {},
   "source": [
    "Theory : the track 0 is for the tempos and rhythms.\n",
    "\n",
    "The track 1 is for the right hand and the track 2 is for the left hand"
   ]
  },
  {
   "cell_type": "code",
   "execution_count": 15,
   "metadata": {},
   "outputs": [
    {
     "name": "stdout",
     "output_type": "stream",
     "text": [
      "[]\n",
      "[0, 854, 506, 0, 0, 0, 0, 0]\n",
      "[nan, 68.70257611241217, 52.3201581027668, nan, nan, nan, nan, nan]\n"
     ]
    },
    {
     "name": "stderr",
     "output_type": "stream",
     "text": [
      "C:\\Users\\lorra\\AppData\\Local\\Temp\\ipykernel_31996\\1373258131.py:10: RuntimeWarning: Mean of empty slice.\n",
      "  print(list(nts.mean() for nts in notes))\n"
     ]
    }
   ],
   "source": [
    "import numpy as np\n",
    "\n",
    "notes = []\n",
    "print(notes)\n",
    "for i in range(len(file.tracks)):\n",
    "    notes.append(np.array([message.note for message in file.tracks[i] if message.type == 'note_on']))\n",
    "\n",
    "# print(notes)\n",
    "print(list(len(nts) for nts in notes))\n",
    "print(list(nts.mean() for nts in notes))"
   ]
  },
  {
   "cell_type": "markdown",
   "metadata": {},
   "source": [
    "Let's now create a midi file while removing all the parts that i think are useless, (to check if they're indeed useless xD)"
   ]
  },
  {
   "cell_type": "code",
   "execution_count": 16,
   "metadata": {},
   "outputs": [],
   "source": [
    "def createMidiFileWithAllMessages(notes, starts, velocity, fileName):\n",
    "    file = mido.MidiFile()\n",
    "\n",
    "    track = mido.MidiTrack()\n",
    "    file.tracks.append(track)\n",
    "\n",
    "    for i in range(len(notes)):\n",
    "        # print(notes[n][i], starts[n][i], velocity[n][i])\n",
    "        \n",
    "        track.append(mido.Message('note_on', note=notes[i], velocity=velocity[i], time=starts[i]))\n",
    "        \n",
    "    file.save(fileName)"
   ]
  },
  {
   "cell_type": "code",
   "execution_count": 17,
   "metadata": {},
   "outputs": [
    {
     "name": "stdout",
     "output_type": "stream",
     "text": [
      "{'type': 'note_on', 'time': 480, 'note': 62, 'velocity': 0, 'channel': 0}\n",
      "{'type': 'note_on', 'time': 0, 'note': 66, 'velocity': 0, 'channel': 0}\n",
      "{'type': 'note_on', 'time': 0, 'note': 69, 'velocity': 0, 'channel': 0}\n"
     ]
    }
   ],
   "source": [
    "print(file.tracks[1][8].dict())\n",
    "print(file.tracks[1][9].dict())\n",
    "print(file.tracks[1][10].dict())"
   ]
  },
  {
   "cell_type": "markdown",
   "metadata": {},
   "source": [
    "Let's now resume everything in one big function : \n",
    "\n",
    "the function will take a path and a name in input, and will create a new midi file by removing the useless tracks"
   ]
  },
  {
   "cell_type": "code",
   "execution_count": 37,
   "metadata": {},
   "outputs": [],
   "source": [
    "def createMidiFileWithAllMessages(notes, starts, end, fileName, tempo=200):\n",
    "    file = mido.MidiFile()\n",
    "\n",
    "    track = mido.MidiTrack()\n",
    "    file.tracks.append(track)\n",
    " \n",
    "    for i in range(len(notes)):\n",
    "        # print(notes[n][i], starts[n][i], velocity[n][i])\n",
    "        \n",
    "        track.append(mido.Message('note_on', note=notes[i], time=starts[i], velocity=0 if end[i] == True else 64))\n",
    "        # f = 0\n",
    "        # while(vels[i+f] != 0 and notes[i+f] != notes[i] and i+f < len(notes)):\n",
    "        #     f += 1\n",
    "        \n",
    "        # track.append(mido.Message('note_off', note=notes[i], time=starts[i+f]))\n",
    "        \n",
    "        \n",
    "    file.save(fileName)"
   ]
  },
  {
   "cell_type": "code",
   "execution_count": 38,
   "metadata": {},
   "outputs": [],
   "source": [
    "def CreateMidiFile(path, name):\n",
    "    # define the file \n",
    "    file = mido.MidiFile(path)\n",
    "    # print(path)\n",
    "    \n",
    "    track = file.tracks[1]\n",
    "        \n",
    "    # Iterate over all the messages in the track\n",
    "    messages = []\n",
    "    for message in track:\n",
    "        # print(f'\\t{message.type}: {message.dict()}')\n",
    "        if(message.type == 'note_on' or message.type == 'note_off'):\n",
    "            # print(f'\\t{message.dict()}')\n",
    "            messages.append(message)\n",
    "            # track.remove(message)\n",
    "    \n",
    "    notes = [m.note for m in messages]\n",
    "    starts = [m.time for m in messages]\n",
    "    vels = [m.velocity == 0 for m in messages]\n",
    "\n",
    "    # creating the new file\n",
    "    createMidiFileWithAllMessages(notes, starts, vels, name)"
   ]
  },
  {
   "cell_type": "code",
   "execution_count": 39,
   "metadata": {},
   "outputs": [
    {
     "data": {
      "text/plain": [
       "True"
      ]
     },
     "execution_count": 39,
     "metadata": {},
     "output_type": "execute_result"
    }
   ],
   "source": [
    "CreateMidiFile('data/albeniz/alb_esp3.mid', \"camarchepas.mid\")\n",
    "True"
   ]
  },
  {
   "cell_type": "code",
   "execution_count": 40,
   "metadata": {},
   "outputs": [
    {
     "name": "stdout",
     "output_type": "stream",
     "text": [
      "[0, 2, 4, 6, 8, 10, 12, 14, 16, 18]\n",
      "[0, 2, 4, 8, 10, 12, 14, 16, 18]\n"
     ]
    }
   ],
   "source": [
    "li = list(range(0, 20, 2))\n",
    "print(li)\n",
    "for i,l in enumerate(li):\n",
    "    # print(l)\n",
    "    if(l == 6):\n",
    "        li.remove(l)\n",
    "print(li)"
   ]
  },
  {
   "cell_type": "code",
   "execution_count": 41,
   "metadata": {},
   "outputs": [
    {
     "name": "stdout",
     "output_type": "stream",
     "text": [
      "['data\\\\albeniz\\\\alb_esp1V2.mid', 'data\\\\albeniz\\\\alb_esp2V2.mid', 'data\\\\albeniz\\\\alb_esp3V2.mid', 'data\\\\albeniz\\\\alb_esp4V2.mid', 'data\\\\albeniz\\\\alb_esp5V2.mid']\n"
     ]
    }
   ],
   "source": [
    "# remove the useless tracks for all the files\n",
    "def createAllMidiFilesV2():\n",
    "    newMidis = []\n",
    "\n",
    "    for midi in get_midis():\n",
    "        if('V2' in midi): continue\n",
    "        newMidis.append(midi.split('.')[0] + \"V2.mid\")\n",
    "        CreateMidiFile(midi, midi.split('.')[0] + \"V2.mid\") \n",
    "        \n",
    "    return newMidis\n",
    "    \n",
    "midis = get_midis()\n",
    "new_midis = createAllMidiFilesV2()\n",
    "print(new_midis[:5])"
   ]
  },
  {
   "cell_type": "markdown",
   "metadata": {},
   "source": [
    "## Convert midi files to tokens"
   ]
  },
  {
   "cell_type": "code",
   "execution_count": 22,
   "metadata": {},
   "outputs": [
    {
     "name": "stdout",
     "output_type": "stream",
     "text": [
      "762498\n"
     ]
    }
   ],
   "source": [
    "def get_all_messages():\n",
    "    messages = []\n",
    "    for midi in new_midis:\n",
    "        file = mido.MidiFile(midi)\n",
    "        track = file.tracks[0]\n",
    "        for message in track:\n",
    "            if(message.type == 'note_on' or message.type == 'note_off'):\n",
    "                messages.append(message)\n",
    "            # else:\n",
    "            #     print(f'\\t{message.type}: {message.dict()}')\n",
    "    return messages\n",
    "\n",
    "all_messages = get_all_messages()\n",
    "print(len(all_messages))\n"
   ]
  },
  {
   "cell_type": "code",
   "execution_count": 42,
   "metadata": {},
   "outputs": [],
   "source": [
    "# create a matrix with all triplets of notes, starts and velocities\n",
    "\n",
    "def getValues(midi_paths):\n",
    "    values = []\n",
    "    for midi in midi_paths:\n",
    "        values.append((0,0,0))\n",
    "        file = mido.MidiFile(midi)\n",
    "        track = file.tracks[0]\n",
    "        for message in track:\n",
    "            if(message.type == 'note_on' or message.type == 'note_off'):\n",
    "                values.append((message.note, message.time, message.velocity == 0))\n",
    "        values.append((1,1,1))\n",
    "    return np.array(values)\n",
    "\n",
    "def valuesToMessages(values):\n",
    "    notes = values[:, 0]\n",
    "    starts = values[:, 1]\n",
    "    velocities = values[:, 2]\n",
    "    return [mido.Message('note_on', note=notes[i], velocity=0 if velocities[i]==True else 64, time=starts[i]) for i in range(len(notes))]\n",
    "\n",
    "\n",
    "X = getValues(new_midis)\n",
    "# print(midi_messages[:5])\n"
   ]
  },
  {
   "cell_type": "code",
   "execution_count": 43,
   "metadata": {},
   "outputs": [
    {
     "name": "stdout",
     "output_type": "stream",
     "text": [
      "(763088, 3)\n",
      "[[   0    0    0]\n",
      " [  81  240    0]\n",
      " [  81  240    1]\n",
      " [  88    0    0]\n",
      " [  88 1560    1]]\n",
      "int32\n"
     ]
    }
   ],
   "source": [
    "print(X.shape)\n",
    "print(X[:5])\n",
    "print(X.dtype)"
   ]
  },
  {
   "cell_type": "code",
   "execution_count": 44,
   "metadata": {},
   "outputs": [],
   "source": [
    "# # round every velocity to the nearest 10 to reduce the number of unique values\n",
    "\n",
    "# X = getValues(new_midis)\n",
    "\n",
    "# print(np.unique(X, axis=0).shape[0])\n",
    "# # print(midi_messages[:5])\n",
    "# # round every velocity to the nearest 10\n",
    "# print(np.mean(X[:, 2]))\n",
    "# X[:, 2] = np.round(X[:, 2], -1)\n",
    "# print(np.mean(X[:, 2]))\n",
    "\n",
    "# # print(midi_messages[:5])\n",
    "# print(np.unique(X, axis=0).shape[0])"
   ]
  },
  {
   "cell_type": "code",
   "execution_count": 45,
   "metadata": {},
   "outputs": [
    {
     "name": "stdout",
     "output_type": "stream",
     "text": [
      "[370 287   5 491 839]\n",
      "[400 300   0 500 800]\n"
     ]
    }
   ],
   "source": [
    "a = np.random.randint(0, 1000, 5)\n",
    "print(a)\n",
    "print(np.round(a, -2))\n"
   ]
  },
  {
   "cell_type": "code",
   "execution_count": 46,
   "metadata": {},
   "outputs": [
    {
     "name": "stdout",
     "output_type": "stream",
     "text": [
      "10973\n",
      "81.6041622984505\n",
      "79.59252406013461\n",
      "2042\n"
     ]
    }
   ],
   "source": [
    "# round every time to the nearest 100 to reduce the number of unique values\n",
    "\n",
    "print(np.unique(X, axis=0).shape[0])\n",
    "# print(midi_messages[:5])\n",
    "# round every velocity to the nearest 10\n",
    "print(np.mean(X[:, 1]))\n",
    "X[:, 1] = np.round(X[:, 1], -2)\n",
    "print(np.mean(X[:, 1]))\n",
    "\n",
    "# print(midi_messages[:5])\n",
    "print(np.unique(X, axis=0).shape[0])"
   ]
  },
  {
   "cell_type": "code",
   "execution_count": 47,
   "metadata": {},
   "outputs": [
    {
     "name": "stdout",
     "output_type": "stream",
     "text": [
      "763088 2042 0.002675969219801648\n",
      "[1, 1, 1, 1, 1, 1, 1, 1, 1, 1, 1, 1, 1, 1, 1, 1, 1, 1, 1, 1, 1, 1, 1, 1, 1, 1, 1, 1, 1, 1, 1, 1, 1, 1, 1, 1, 1, 1, 1, 1, 1, 1, 1, 1, 1, 1, 1, 1, 1, 1, 1, 1, 1, 1, 1, 1, 1, 1, 1, 1, 1, 1, 1, 1, 1, 1, 1, 1, 1, 1, 1, 1, 1, 1, 1, 1, 1, 1, 1, 1, 1, 1, 1, 1, 1, 1, 1, 1, 1, 1, 1, 1, 1, 1, 1, 1, 1, 1, 1, 1, 1, 1, 1, 1, 1, 1, 1, 1, 1, 1, 1, 1, 1, 1, 1, 1, 1, 1, 1, 1, 1, 1, 1, 1, 1, 1, 1, 1, 1, 1, 1, 1, 1, 1, 1, 1, 1, 1, 1, 1, 1, 1, 1, 1, 1, 1, 1, 1, 1, 1, 1, 1, 1, 1, 1, 1, 1, 1, 1, 1, 1, 1, 1, 1, 1, 1, 1, 1, 1, 1, 1, 1, 1, 1, 1, 1, 1, 1, 1, 1, 1, 1, 1, 1, 1, 1, 1, 1, 1, 1, 1, 1, 1, 1, 1, 1, 1, 1, 1, 1, 1, 1, 1, 1, 1, 1, 1, 1, 1, 1, 1, 1, 1, 1, 1, 1, 1, 1, 1, 1, 1, 1, 1, 1, 1, 1, 1, 1, 1, 1, 1, 1, 1, 1, 1, 1, 1, 1, 1, 1, 1, 1, 1, 1, 1, 1, 1, 1, 1, 1, 1, 1, 1, 1, 1, 1, 1, 1, 1, 1, 1, 1, 1, 1, 1, 1, 1, 1, 1, 1, 1, 1, 1, 1, 1, 1, 1, 1, 1, 1, 1, 1, 1, 1, 1, 1, 1, 1, 1, 1, 1, 1, 1, 1, 1, 1, 1, 1, 1, 1, 1, 1, 1, 1, 1, 1, 1, 1, 1, 1, 1, 1, 1, 1, 1, 1, 1, 1, 1, 1, 1, 1, 1, 1, 1, 1, 1, 1, 1, 1, 1, 1, 1, 1, 1, 1, 1, 1, 1, 1, 1, 1, 1, 1, 1, 1, 1, 1, 1, 1, 1, 1, 1, 1, 1, 1, 1, 1, 1, 1, 1, 1, 1, 1, 1, 1, 1, 1, 1, 1, 1, 1, 1, 1, 1, 1, 1, 1, 1, 1, 1, 1, 1, 1, 1, 1, 1, 1, 1, 1, 1, 1, 1, 1, 1, 1, 1, 1, 1, 1, 1, 1, 1, 1, 1, 1, 1, 1, 1, 1, 1, 1, 1, 1, 1, 1, 1, 1, 1, 1, 1, 1, 1, 1, 1, 1, 1, 1, 1, 1, 1, 1, 1, 1, 1, 1, 1, 1, 1, 1, 1, 1, 1, 1, 1, 1, 1, 1, 1, 1, 1, 1, 1, 1, 1, 1, 1, 1, 1, 1, 1, 1, 1, 1, 2, 2, 2, 2, 2, 2, 2, 2, 2, 2, 2, 2, 2, 2, 2, 2, 2, 2, 2, 2, 2, 2, 2, 2, 2, 2, 2, 2, 2, 2, 2, 2, 2, 2, 2, 2, 2, 2, 2, 2, 2, 2, 2, 2, 2, 2, 2, 2, 2, 2, 2, 2, 2, 2, 2, 2, 2, 2, 2, 2, 2, 2, 2, 2, 2, 2, 2, 2, 2, 2, 2, 2, 2, 2, 2, 2, 2, 2, 2, 2, 2, 2, 2, 2, 2, 2, 2, 2, 2, 2, 2, 2, 2, 2, 2, 2, 2, 2, 2, 2, 2, 2, 2, 2, 2, 2, 2, 2, 2, 2, 2, 2, 2, 2, 2, 2, 2, 2, 2, 2, 2, 2, 2, 2, 2, 2, 2, 2, 2, 2, 2, 2, 2, 2, 2, 2, 2, 2, 2, 2, 2, 2, 2, 2, 2, 2, 2, 2, 2, 2, 2, 2, 2, 2, 2, 2, 2, 2, 2, 2, 2, 2, 2, 2, 2, 2, 2, 2, 2, 2, 2, 2, 2, 2, 2, 2, 2, 2, 2, 2, 2, 2, 2, 2, 2, 2, 2, 2, 2, 2, 2, 2, 2, 2, 2, 2, 2, 2, 2, 2, 2, 2, 2, 2, 2, 2, 2, 2, 2, 2, 2, 2, 2, 2, 2, 2, 2, 2, 2, 2, 2, 2, 2, 2, 2, 2, 2, 3, 3, 3, 3, 3, 3, 3, 3, 3, 3, 3, 3, 3, 3, 3, 3, 3, 3, 3, 3, 3, 3, 3, 3, 3, 3, 3, 3, 3, 3, 3, 3, 3, 3, 3, 3, 3, 3, 3, 3, 3, 3, 3, 3, 3, 3, 3, 3, 3, 3, 3, 3, 3, 3, 3, 3, 3, 3, 3, 3, 3, 3, 3, 3, 3, 3, 3, 3, 3, 3, 3, 3, 3, 3, 3, 3, 3, 3, 3, 3, 3, 3, 3, 3, 3, 3, 3, 3, 3, 3, 3, 3, 3, 3, 3, 3, 3, 3, 3, 3, 3, 3, 3, 3, 3, 3, 3, 3, 3, 3, 3, 3, 3, 3, 3, 3, 3, 3, 3, 3, 3, 3, 3, 3, 3, 3, 3, 3, 3, 3, 3, 3, 3, 3, 3, 4, 4, 4, 4, 4, 4, 4, 4, 4, 4, 4, 4, 4, 4, 4, 4, 4, 4, 4, 4, 4, 4, 4, 4, 4, 4, 4, 4, 4, 4, 4, 4, 4, 4, 4, 4, 4, 4, 4, 4, 4, 4, 4, 4, 4, 4, 4, 4, 4, 4, 4, 4, 4, 4, 4, 4, 4, 4, 4, 4, 4, 4, 4, 4, 4, 4, 4, 4, 4, 4, 4, 4, 4, 4, 4, 4, 4, 4, 4, 4, 4, 4, 4, 4, 4, 4, 4, 4, 4, 4, 5, 5, 5, 5, 5, 5, 5, 5, 5, 5, 5, 5, 5, 5, 5, 5, 5, 5, 5, 5, 5, 5, 5, 5, 5, 5, 5, 5, 5, 5, 5, 5, 5, 5, 5, 5, 5, 5, 5, 5, 5, 5, 5, 5, 5, 5, 5, 5, 5, 5, 5, 5, 5, 5, 5, 5, 5, 5, 5, 5, 5, 5, 5, 5, 5, 5, 5, 5, 5, 5, 5, 5, 5, 5, 5, 5, 6, 6, 6, 6, 6, 6, 6, 6, 6, 6, 6, 6, 6, 6, 6, 6, 6, 6, 6, 6, 6, 6, 6, 6, 6, 6, 6, 6, 6, 6, 6, 6, 6, 6, 6, 6, 6, 6, 6, 6, 6, 6, 6, 6, 6, 6, 6, 6, 6, 6, 6, 6, 6, 6, 6, 6, 6, 6, 6, 6, 6, 6, 6, 7, 7, 7, 7, 7, 7, 7, 7, 7, 7, 7, 7, 7, 7, 7, 7, 7, 7, 7, 7, 7, 7, 7, 7, 7, 7, 7, 7, 7, 7, 7, 7, 7, 7, 7, 7, 7, 7, 7, 7, 7, 7, 7, 8, 8, 8, 8, 8, 8, 8, 8, 8, 8, 8, 8, 8, 8, 8, 8, 8, 8, 8, 8, 8, 8, 8, 8, 8, 8, 8, 8, 8, 8, 8, 8, 8, 8, 8, 8, 8, 8, 8, 8, 8, 8, 8, 9, 9, 9, 9, 9, 9, 9, 9, 9, 9, 9, 9, 9, 9, 9, 9, 9, 9, 9, 9, 9, 9, 9, 9, 9, 9, 9, 9, 9, 9, 9, 9, 9, 9, 9, 9, 9, 9, 9, 10, 10, 10, 10, 10, 10, 10, 10, 10, 10, 10, 10, 10, 10, 10, 10, 10, 10, 10, 10, 10, 10, 10, 10, 10, 10, 10, 10, 10, 10, 10, 10, 10, 10, 10, 10, 11, 11, 11, 11, 11, 11, 11, 11, 11, 11, 11, 11, 11, 11, 11, 11, 11, 11, 11, 11, 11, 11, 11, 11, 11, 11, 12, 12, 12, 12, 12, 12, 12, 12, 12, 12, 12, 12, 12, 12, 12, 12, 12, 12, 12, 12, 12, 12, 12, 12, 12, 12, 12, 12, 13, 13, 13, 13, 13, 13, 13, 13, 13, 13, 13, 13, 13, 13, 13, 13, 14, 14, 14, 14, 14, 14, 14, 14, 14, 14, 14, 14, 14, 14, 14, 14, 14, 14, 14, 14, 14, 15, 15, 15, 15, 15, 15, 15, 15, 15, 15, 15, 15, 15, 15, 15, 15, 15, 15, 15, 15, 16, 16, 16, 16, 16, 16, 16, 16, 16, 16, 17, 17, 17, 17, 17, 17, 17, 17, 17, 17, 18, 18, 18, 18, 18, 18, 18, 18, 18, 18, 19, 19, 19, 19, 19, 19, 19, 19, 20, 20, 20, 20, 20, 20, 20, 20, 20, 20, 21, 21, 21, 21, 21, 21, 21, 21, 21, 21, 21, 21, 21, 22, 22, 22, 22, 22, 22, 22, 22, 23, 23, 23, 23, 23, 23, 23, 23, 24, 24, 24, 24, 24, 24, 24, 24, 24, 24, 24, 24, 25, 25, 25, 25, 25, 25, 25, 25, 25, 25, 25, 25, 26, 26, 26, 26, 26, 26, 27, 27, 27, 27, 27, 27, 28, 28, 28, 28, 28, 28, 28, 28, 28, 28, 29, 29, 29, 29, 29, 30, 30, 30, 30, 30, 31, 31, 31, 31, 31, 32, 32, 32, 32, 33, 33, 33, 33, 33, 33, 33, 33, 34, 34, 34, 34, 35, 36, 36, 36, 36, 36, 36, 37, 37, 37, 37, 37, 37, 38, 38, 38, 39, 39, 39, 39, 39, 40, 40, 40, 40, 40, 40, 40, 40, 41, 41, 42, 43, 43, 43, 43, 43, 44, 44, 44, 44, 45, 45, 45, 45, 46, 46, 46, 47, 47, 47, 48, 48, 49, 49, 49, 50, 51, 52, 52, 52, 52, 53, 53, 54, 55, 55, 55, 56, 56, 57, 57, 57, 57, 57, 58, 58, 59, 59, 59, 59, 59, 59, 60, 60, 61, 62, 62, 62, 62, 63, 63, 63, 64, 65, 65, 65, 66, 66, 67, 67, 67, 69, 71, 71, 71, 71, 71, 72, 72, 74, 74, 75, 75, 76, 76, 77, 78, 78, 82, 82, 83, 85, 85, 87, 88, 88, 89, 89, 89, 90, 90, 90, 90, 91, 92, 92, 93, 93, 94, 94, 95, 96, 96, 97, 97, 97, 97, 97, 98, 98, 98, 98, 99, 101, 102, 102, 102, 102, 103, 104, 105, 105, 105, 109, 109, 110, 111, 112, 112, 112, 112, 113, 113, 115, 117, 117, 118, 119, 121, 121, 121, 122, 122, 124, 125, 126, 127, 127, 127, 128, 130, 130, 130, 133, 133, 134, 134, 136, 136, 137, 137, 138, 139, 141, 142, 143, 143, 143, 145, 146, 146, 147, 147, 148, 149, 149, 151, 155, 155, 156, 160, 161, 162, 162, 165, 165, 166, 172, 172, 174, 175, 175, 176, 176, 177, 177, 178, 180, 183, 186, 188, 193, 197, 199, 199, 201, 201, 204, 205, 206, 209, 212, 213, 213, 219, 220, 220, 221, 221, 223, 224, 226, 227, 230, 232, 236, 236, 239, 244, 245, 246, 252, 259, 260, 261, 261, 263, 264, 268, 270, 271, 277, 281, 295, 295, 296, 298, 304, 312, 314, 315, 316, 319, 320, 322, 324, 339, 341, 350, 355, 355, 361, 367, 396, 401, 403, 405, 406, 407, 408, 410, 416, 419, 426, 431, 432, 436, 438, 441, 445, 452, 452, 452, 452, 456, 458, 465, 467, 469, 472, 474, 479, 483, 486, 487, 487, 506, 508, 523, 535, 536, 540, 540, 545, 546, 549, 554, 558, 559, 579, 581, 584, 586, 592, 593, 594, 612, 617, 641, 650, 653, 662, 682, 695, 701, 709, 709, 718, 718, 720, 745, 756, 762, 764, 764, 769, 780, 786, 800, 804, 816, 833, 838, 841, 842, 862, 864, 904, 906, 913, 915, 917, 938, 939, 949, 965, 989, 990, 996, 997, 1000, 1021, 1024, 1032, 1037, 1039, 1040, 1094, 1121, 1181, 1189, 1205, 1230, 1240, 1263, 1307, 1313, 1318, 1321, 1343, 1344, 1353, 1357, 1370, 1375, 1386, 1389, 1405, 1435, 1444, 1454, 1467, 1484, 1493, 1527, 1545, 1570, 1571, 1576, 1593, 1595, 1610, 1651, 1669, 1710, 1717, 1760, 1806, 1808, 1840, 1910, 1927, 1929, 1932, 1952, 1994, 2169, 2176, 2221, 2226, 2283, 2285, 2301, 2320, 2333, 2403, 2430, 2455, 2479, 2511, 2523, 2581, 2593, 2599, 2623, 2680, 2688, 2714, 2842, 2935, 2962, 3001, 3057, 3218, 3285, 3298, 3350, 3387, 3393, 3440, 3509, 3540, 3579, 3701, 3746, 3761, 3780, 3867, 3882, 3956, 4007, 4120, 4202, 4226, 4231, 4357, 4506, 4507, 4509, 4568, 4644, 4666, 4742, 4909, 5159, 5258, 5298, 5302, 5306, 5387, 5401, 5409, 5432, 5434, 5482, 5555, 5746, 5786, 5938, 6125, 6236, 6291, 6302, 6675, 6846, 6874, 6915, 7326, 7495, 7728, 8090, 8279, 8412, 8695, 8765, 9249, 9634, 9739, 10980, 11402, 11553, 12150, 12402, 12460, 12791, 12870, 12905, 13454, 15940, 16190]\n",
      "6.0\n"
     ]
    },
    {
     "data": {
      "text/plain": [
       "[<matplotlib.lines.Line2D at 0x28073ec34d0>]"
      ]
     },
     "execution_count": 47,
     "metadata": {},
     "output_type": "execute_result"
    },
    {
     "data": {
      "image/png": "[encoded data removed]",
      "text/plain": [
       "<Figure size 640x480 with 1 Axes>"
      ]
     },
     "metadata": {},
     "output_type": "display_data"
    }
   ],
   "source": [
    "full_size = X.shape[0]\n",
    "nuniques = np.unique(X, axis=0).shape[0]\n",
    "print(full_size, nuniques, nuniques/full_size)\n",
    "a = np.sort(np.unique(X, axis=0, return_counts=True)[1])\n",
    "print(list(a))\n",
    "print(np.median(a))\n",
    "\n",
    "import matplotlib.pyplot as plt\n",
    "plt.plot(a)"
   ]
  },
  {
   "cell_type": "code",
   "execution_count": 55,
   "metadata": {},
   "outputs": [
    {
     "name": "stdout",
     "output_type": "stream",
     "text": [
      "[(array([0, 0, 0]), 295), (array([1, 0, 1]), 295), (array([24,  0,  0]), 1), (array([ 24, 400,   1]), 1), (array([26,  0,  0]), 2), (array([ 26, 100,   1]), 1), (array([ 26, 200,   0]), 2), (array([  26, 1200,    1]), 3), (array([27,  0,  0]), 1), (array([ 27, 100,   1]), 1), (array([28,  0,  0]), 1), (array([ 28, 100,   1]), 1), (array([29,  0,  0]), 2), (array([ 29, 100,   1]), 2), (array([30,  0,  0]), 2), (array([ 30, 200,   1]), 2), (array([31,  0,  0]), 1), (array([31,  0,  1]), 1), (array([ 31, 100,   1]), 1), (array([  31, 1200,    0]), 1), (array([32,  0,  0]), 5), (array([32,  0,  1]), 1), (array([ 32, 100,   1]), 1), (array([ 32, 200,   1]), 2), (array([ 32, 500,   1]), 1), (array([33,  0,  0]), 10), (array([ 33, 100,   1]), 3), (array([ 33, 200,   1]), 1), (array([ 33, 500,   1]), 4), (array([ 33, 700,   1]), 1), (array([  33, 1200,    1]), 1), (array([34,  0,  0]), 10), (array([34,  0,  1]), 2), (array([ 34, 100,   1]), 6), (array([ 34, 200,   1]), 2), (array([35,  0,  0]), 12), (array([35,  0,  1]), 1), (array([ 35, 100,   1]), 5), (array([ 35, 200,   1]), 2), (array([ 35, 500,   1]), 3), (array([ 35, 700,   1]), 1), (array([36,  0,  0]), 7), (array([36,  0,  1]), 2), (array([ 36, 100,   1]), 2), (array([ 36, 200,   0]), 2), (array([ 36, 200,   1]), 4), (array([ 36, 500,   1]), 2), (array([  36, 1700,    0]), 1), (array([37,  0,  0]), 10), (array([ 37, 100,   1]), 5), (array([ 37, 200,   0]), 1), (array([ 37, 200,   1]), 1), (array([ 37, 500,   1]), 4), (array([ 37, 700,   1]), 1), (array([38,  0,  0]), 17), (array([38,  0,  1]), 5), (array([ 38, 100,   0]), 2), (array([ 38, 100,   1]), 9), (array([ 38, 200,   0]), 3), (array([ 38, 200,   1]), 3), (array([ 38, 500,   1]), 4), (array([ 38, 700,   1]), 1), (array([39,  0,  0]), 30), (array([39,  0,  1]), 25), (array([ 39, 100,   0]), 14), (array([ 39, 100,   1]), 11), (array([ 39, 200,   0]), 2), (array([ 39, 200,   1]), 6), (array([ 39, 400,   0]), 1), (array([ 39, 500,   0]), 2), (array([ 39, 500,   1]), 4), (array([ 39, 700,   1]), 1), (array([  39, 1000,    1]), 1), (array([  39, 1900,    1]), 1), (array([40,  0,  0]), 13), (array([40,  0,  1]), 5), (array([ 40, 100,   0]), 3), (array([ 40, 100,   1]), 11), (array([ 40, 200,   0]), 3), (array([  40, 1000,    1]), 3), (array([41,  0,  0]), 62), (array([41,  0,  1]), 71), (array([ 41, 100,   0]), 44), (array([ 41, 100,   1]), 25), (array([ 41, 200,   0]), 2), (array([ 41, 200,   1]), 12), (array([ 41, 500,   0]), 1), (array([ 41, 500,   1]), 2), (array([ 41, 700,   1]), 3), (array([  41, 1000,    1]), 1), (array([  41, 1700,    0]), 2), (array([  41, 2000,    0]), 2), (array([  41, 3700,    0]), 1), (array([42,  0,  0]), 29), (array([42,  0,  1]), 11), (array([ 42, 100,   0]), 5), (array([ 42, 100,   1]), 18), (array([ 42, 200,   0]), 3), (array([ 42, 200,   1]), 2), (array([ 42, 500,   0]), 1), (array([ 42, 500,   1]), 1), (array([ 42, 600,   0]), 2), (array([ 42, 700,   1]), 1), (array([  42, 1000,    1]), 2), (array([  42, 1400,    1]), 2), (array([  42, 1900,    1]), 2), (array([  42, 2200,    1]), 1), (array([43,  0,  0]), 146), (array([43,  0,  1]), 59), (array([ 43, 100,   0]), 37), (array([ 43, 100,   1]), 115), (array([ 43, 200,   0]), 3), (array([ 43, 200,   1]), 5), (array([ 43, 400,   0]), 1), (array([ 43, 500,   0]), 4), (array([ 43, 500,   1]), 5), (array([ 43, 700,   0]), 1), (array([ 43, 700,   1]), 3), (array([ 43, 800,   0]), 1), (array([  43, 1000,    1]), 2), (array([  43, 1400,    1]), 4), (array([44,  0,  0]), 112), (array([44,  0,  1]), 47), (array([ 44, 100,   0]), 36), (array([ 44, 100,   1]), 82), (array([ 44, 200,   0]), 9), (array([ 44, 200,   1]), 15), (array([ 44, 400,   1]), 6), (array([ 44, 500,   0]), 3), (array([ 44, 500,   1]), 6), (array([ 44, 600,   0]), 3), (array([ 44, 600,   1]), 1), (array([ 44, 700,   0]), 1), (array([ 44, 800,   0]), 1), (array([  44, 1000,    1]), 3), (array([  44, 1400,    1]), 5), (array([45,  0,  0]), 136), (array([45,  0,  1]), 57), (array([ 45, 100,   0]), 43), (array([ 45, 100,   1]), 97), (array([ 45, 200,   0]), 9), (array([ 45, 200,   1]), 26), (array([ 45, 400,   1]), 1), (array([ 45, 500,   0]), 1), (array([ 45, 500,   1]), 5), (array([ 45, 700,   1]), 4), (array([ 45, 800,   0]), 2), (array([  45, 1000,    0]), 1), (array([  45, 1000,    1]), 4), (array([  45, 1100,    0]), 1), (array([  45, 1800,    0]), 1), (array([46,  0,  0]), 246), (array([46,  0,  1]), 174), (array([ 46, 100,   0]), 111), (array([ 46, 100,   1]), 155), (array([ 46, 200,   0]), 14), (array([ 46, 200,   1]), 40), (array([ 46, 400,   0]), 1), (array([ 46, 400,   1]), 3), (array([ 46, 500,   0]), 2), (array([ 46, 500,   1]), 8), (array([ 46, 600,   0]), 1), (array([ 46, 600,   1]), 1), (array([ 46, 700,   0]), 5), (array([ 46, 700,   1]), 3), (array([ 46, 800,   0]), 1), (array([  46, 1000,    1]), 2), (array([  46, 1100,    0]), 1), (array([  46, 1600,    0]), 1), (array([  46, 1800,    0]), 1), (array([  46, 2300,    0]), 1), (array([  46, 2700,    0]), 1), (array([47,  0,  0]), 227), (array([47,  0,  1]), 103), (array([ 47, 100,   0]), 52), (array([ 47, 100,   1]), 134), (array([ 47, 200,   0]), 12), (array([ 47, 200,   1]), 58), (array([ 47, 300,   0]), 1), (array([ 47, 400,   1]), 2), (array([ 47, 500,   0]), 2), (array([ 47, 500,   1]), 4), (array([ 47, 600,   0]), 1), (array([ 47, 700,   0]), 6), (array([ 47, 700,   1]), 3), (array([ 47, 800,   1]), 1), (array([  47, 1000,    0]), 1), (array([  47, 1400,    0]), 1), (array([  47, 1700,    0]), 1), (array([  47, 2700,    0]), 1), (array([48,  0,  0]), 549), (array([48,  0,  1]), 396), (array([ 48, 100,   0]), 220), (array([ 48, 100,   1]), 315), (array([ 48, 200,   0]), 53), (array([ 48, 200,   1]), 90), (array([ 48, 400,   0]), 4), (array([ 48, 400,   1]), 2), (array([ 48, 500,   0]), 5), (array([ 48, 500,   1]), 37), (array([ 48, 700,   0]), 11), (array([ 48, 700,   1]), 2), (array([ 48, 800,   0]), 1), (array([ 48, 900,   0]), 1), (array([ 48, 900,   1]), 1), (array([  48, 1000,    0]), 2), (array([  48, 1000,    1]), 5), (array([  48, 1200,    0]), 1), (array([  48, 1200,    1]), 1), (array([  48, 1300,    0]), 4), (array([  48, 1400,    0]), 1), (array([  48, 1400,    1]), 4), (array([  48, 1800,    0]), 1), (array([  48, 1900,    1]), 1), (array([  48, 2600,    0]), 1), (array([  48, 2900,    1]), 1), (array([  48, 4600,    0]), 1), (array([49,  0,  0]), 441), (array([49,  0,  1]), 298), (array([ 49, 100,   0]), 112), (array([ 49, 100,   1]), 201), (array([ 49, 200,   0]), 59), (array([ 49, 200,   1]), 105), (array([ 49, 300,   0]), 2), (array([ 49, 300,   1]), 1), (array([ 49, 400,   0]), 6), (array([ 49, 400,   1]), 2), (array([ 49, 500,   0]), 6), (array([ 49, 500,   1]), 3), (array([ 49, 600,   0]), 2), (array([ 49, 600,   1]), 1), (array([ 49, 700,   0]), 1), (array([ 49, 700,   1]), 8), (array([ 49, 800,   0]), 2), (array([  49, 1000,    1]), 9), (array([  49, 1200,    1]), 1), (array([  49, 1900,    1]), 1), (array([  49, 2900,    1]), 1), (array([50,  0,  0]), 804), (array([50,  0,  1]), 431), (array([ 50, 100,   0]), 219), (array([ 50, 100,   1]), 416), (array([ 50, 200,   0]), 40), (array([ 50, 200,   1]), 176), (array([ 50, 300,   0]), 2), (array([ 50, 400,   0]), 12), (array([ 50, 400,   1]), 35), (array([ 50, 500,   0]), 13), (array([ 50, 500,   1]), 28), (array([ 50, 600,   1]), 1), (array([ 50, 700,   0]), 3), (array([ 50, 700,   1]), 7), (array([ 50, 800,   0]), 8), (array([  50, 1000,    0]), 3), (array([  50, 1000,    1]), 9), (array([  50, 1200,    0]), 2), (array([  50, 1200,    1]), 1), (array([  50, 1400,    1]), 1), (array([  50, 1900,    1]), 2), (array([  50, 2300,    0]), 1), (array([  50, 3800,    1]), 1), (array([  50, 5300,    0]), 1), (array([51,  0,  0]), 780), (array([51,  0,  1]), 406), (array([ 51, 100,   0]), 166), (array([ 51, 100,   1]), 355), (array([ 51, 200,   0]), 56), (array([ 51, 200,   1]), 221), (array([ 51, 300,   0]), 4), (array([ 51, 300,   1]), 3), (array([ 51, 400,   0]), 15), (array([ 51, 400,   1]), 7), (array([ 51, 500,   0]), 12), (array([ 51, 500,   1]), 44), (array([ 51, 600,   0]), 2), (array([ 51, 700,   0]), 8), (array([ 51, 700,   1]), 3), (array([ 51, 800,   0]), 3), (array([ 51, 800,   1]), 4), (array([  51, 1000,    0]), 6), (array([  51, 1000,    1]), 11), (array([  51, 1100,    0]), 1), (array([  51, 1200,    0]), 1), (array([  51, 1400,    0]), 4), (array([  51, 1400,    1]), 7), (array([  51, 1900,    0]), 1), (array([  51, 1900,    1]), 1), (array([  51, 2200,    1]), 1), (array([  51, 2300,    0]), 1), (array([  51, 3800,    0]), 1), (array([  51, 4300,    0]), 2), (array([52,  0,  0]), 997), (array([52,  0,  1]), 559), (array([ 52, 100,   0]), 220), (array([ 52, 100,   1]), 474), (array([ 52, 200,   0]), 40), (array([ 52, 200,   1]), 212), (array([ 52, 300,   0]), 9), (array([ 52, 300,   1]), 2), (array([ 52, 400,   0]), 10), (array([ 52, 400,   1]), 11), (array([ 52, 500,   0]), 13), (array([ 52, 500,   1]), 28), (array([ 52, 600,   0]), 3), (array([ 52, 700,   0]), 6), (array([ 52, 700,   1]), 12), (array([ 52, 800,   0]), 3), (array([ 52, 800,   1]), 2), (array([ 52, 900,   1]), 5), (array([  52, 1000,    0]), 2), (array([  52, 1000,    1]), 8), (array([  52, 1100,    0]), 1), (array([  52, 1200,    0]), 1), (array([  52, 1300,    0]), 4), (array([  52, 1400,    0]), 1), (array([  52, 1600,    0]), 1), (array([  52, 1900,    1]), 1), (array([  52, 2100,    0]), 2), (array([  52, 2200,    1]), 1), (array([  52, 7900,    0]), 2), (array([53,  0,  0]), 1545), (array([53,  0,  1]), 949), (array([ 53, 100,   0]), 367), (array([ 53, 100,   1]), 762), (array([ 53, 200,   0]), 119), (array([ 53, 200,   1]), 320), (array([ 53, 300,   0]), 7), (array([ 53, 400,   0]), 27), (array([ 53, 400,   1]), 16), (array([ 53, 500,   0]), 31), (array([ 53, 500,   1]), 53), (array([ 53, 600,   1]), 1), (array([ 53, 700,   0]), 11), (array([ 53, 700,   1]), 12), (array([ 53, 800,   0]), 5), (array([ 53, 900,   1]), 2), (array([  53, 1000,    0]), 8), (array([  53, 1000,    1]), 7), (array([  53, 1200,    0]), 1), (array([  53, 1200,    1]), 2), (array([  53, 1400,    0]), 1), (array([  53, 1400,    1]), 3), (array([  53, 1800,    0]), 3), (array([  53, 2200,    1]), 2), (array([  53, 2400,    0]), 1), (array([  53, 3400,    0]), 1), (array([  53, 6200,    0]), 1), (array([  53, 6500,    0]), 1), (array([54,  0,  0]), 1318), (array([54,  0,  1]), 764), (array([ 54, 100,   0]), 188), (array([ 54, 100,   1]), 445), (array([ 54, 200,   0]), 143), (array([ 54, 200,   1]), 419), (array([ 54, 300,   0]), 8), (array([ 54, 400,   0]), 23), (array([ 54, 400,   1]), 16), (array([ 54, 500,   0]), 28), (array([ 54, 500,   1]), 63), (array([ 54, 600,   0]), 2), (array([ 54, 700,   0]), 6), (array([ 54, 700,   1]), 9), (array([ 54, 800,   0]), 4), (array([ 54, 800,   1]), 1), (array([ 54, 900,   1]), 4), (array([  54, 1000,    0]), 2), (array([  54, 1000,    1]), 7), (array([  54, 1200,    0]), 1), (array([  54, 1300,    1]), 3), (array([  54, 1400,    0]), 1), (array([  54, 1400,    1]), 4), (array([  54, 1700,    0]), 5), (array([  54, 1900,    0]), 6), (array([  54, 2200,    1]), 2), (array([  54, 3600,    0]), 2), (array([55,  0,  0]), 2430), (array([55,  0,  1]), 1454), (array([ 55, 100,   0]), 506), (array([ 55, 100,   1]), 1240), (array([ 55, 200,   0]), 199), (array([ 55, 200,   1]), 426), (array([ 55, 300,   0]), 21), (array([ 55, 300,   1]), 1), (array([ 55, 400,   0]), 67), (array([ 55, 400,   1]), 24), (array([ 55, 500,   0]), 32), (array([ 55, 500,   1]), 94), (array([ 55, 600,   0]), 6), (array([ 55, 600,   1]), 1), (array([ 55, 700,   0]), 5), (array([ 55, 700,   1]), 17), (array([ 55, 800,   0]), 11), (array([ 55, 800,   1]), 9), (array([ 55, 900,   1]), 1), (array([  55, 1000,    0]), 6), (array([  55, 1000,    1]), 13), (array([  55, 1200,    1]), 1), (array([  55, 1300,    0]), 4), (array([  55, 1400,    0]), 3), (array([  55, 1400,    1]), 13), (array([  55, 1700,    0]), 1), (array([  55, 1800,    0]), 3), (array([  55, 1900,    0]), 1), (array([  55, 1900,    1]), 6), (array([  55, 2000,    1]), 2), (array([  55, 2200,    0]), 1), (array([  55, 2400,    0]), 1), (array([  55, 2500,    0]), 1), (array([  55, 2900,    0]), 1), (array([  55, 2900,    1]), 1), (array([  55, 3100,    0]), 1), (array([  55, 8900,    0]), 2), (array([   55, 11500,     0]), 1), (array([56,  0,  0]), 2680), (array([56,  0,  1]), 1493), (array([ 56, 100,   0]), 486), (array([ 56, 100,   1]), 1024), (array([ 56, 200,   0]), 205), (array([ 56, 200,   1]), 769), (array([ 56, 300,   0]), 24), (array([ 56, 400,   0]), 28), (array([ 56, 400,   1]), 43), (array([ 56, 500,   0]), 34), (array([ 56, 500,   1]), 102), (array([ 56, 600,   1]), 5), (array([ 56, 700,   0]), 12), (array([ 56, 700,   1]), 21), (array([ 56, 800,   0]), 12), (array([ 56, 800,   1]), 2), (array([ 56, 900,   1]), 1), (array([  56, 1000,    0]), 5), (array([  56, 1000,    1]), 21), (array([  56, 1100,    0]), 2), (array([  56, 1100,    1]), 4), (array([  56, 1200,    1]), 5), (array([  56, 1300,    0]), 2), (array([  56, 1400,    1]), 9), (array([  56, 1700,    0]), 8), (array([  56, 1900,    1]), 6), (array([  56, 2300,    0]), 2), (array([  56, 2400,    0]), 3), (array([  56, 2600,    1]), 1), (array([  56, 2800,    0]), 2), (array([  56, 2900,    1]), 3), (array([  56, 3600,    0]), 2), (array([  56, 3800,    0]), 1), (array([  56, 7000,    0]), 1), (array([57,  0,  0]), 3387), (array([57,  0,  1]), 1952), (array([ 57, 100,   0]), 508), (array([ 57, 100,   1]), 1405), (array([ 57, 200,   0]), 209), (array([ 57, 200,   1]), 682), (array([ 57, 300,   0]), 20), (array([ 57, 300,   1]), 4), (array([ 57, 400,   0]), 69), (array([ 57, 400,   1]), 52), (array([ 57, 500,   0]), 63), (array([ 57, 500,   1]), 127), (array([ 57, 600,   0]), 7), (array([ 57, 600,   1]), 3), (array([ 57, 700,   0]), 18), (array([ 57, 700,   1]), 29), (array([ 57, 800,   0]), 11), (array([ 57, 800,   1]), 2), (array([ 57, 900,   1]), 12), (array([  57, 1000,    0]), 12), (array([  57, 1000,    1]), 43), (array([  57, 1100,    0]), 1), (array([  57, 1200,    0]), 4), (array([  57, 1200,    1]), 1), (array([  57, 1300,    0]), 1), (array([  57, 1400,    1]), 9), (array([  57, 1500,    0]), 1), (array([  57, 1700,    0]), 4), (array([  57, 1700,    1]), 1), (array([  57, 1900,    0]), 1), (array([  57, 1900,    1]), 4), (array([  57, 2100,    0]), 1), (array([  57, 2200,    0]), 2), (array([  57, 2400,    0]), 1), (array([  57, 2400,    1]), 1), (array([  57, 2500,    0]), 1), (array([  57, 3100,    0]), 2), (array([  57, 4100,    0]), 2), (array([  57, 4600,    0]), 1), (array([  57, 7200,    0]), 1), (array([58,  0,  0]), 4226), (array([58,  0,  1]), 2285), (array([ 58, 100,   0]), 584), (array([ 58, 100,   1]), 1610), (array([ 58, 200,   0]), 281), (array([ 58, 200,   1]), 1037), (array([ 58, 300,   0]), 13), (array([ 58, 300,   1]), 5), (array([ 58, 400,   0]), 55), (array([ 58, 400,   1]), 76), (array([ 58, 500,   0]), 43), (array([ 58, 500,   1]), 160), (array([ 58, 600,   0]), 10), (array([ 58, 600,   1]), 11), (array([ 58, 700,   0]), 11), (array([ 58, 700,   1]), 33), (array([ 58, 800,   0]), 10), (array([ 58, 800,   1]), 1), (array([ 58, 900,   0]), 3), (array([ 58, 900,   1]), 1), (array([  58, 1000,    0]), 10), (array([  58, 1000,    1]), 46), (array([  58, 1100,    0]), 2), (array([  58, 1200,    0]), 7), (array([  58, 1300,    0]), 5), (array([  58, 1400,    0]), 8), (array([  58, 1400,    1]), 9), (array([  58, 1700,    0]), 1), (array([  58, 1800,    0]), 1), (array([  58, 1900,    0]), 2), (array([  58, 1900,    1]), 2), (array([  58, 2400,    1]), 2), (array([  58, 2500,    0]), 2), (array([  58, 2800,    0]), 1), (array([  58, 2900,    0]), 1), (array([  58, 2900,    1]), 1), (array([  58, 3700,    0]), 1), (array([  58, 3800,    0]), 1), (array([  58, 4200,    0]), 1), (array([  58, 8200,    0]), 1), (array([  58, 8200,    1]), 2), (array([   58, 12500,     0]), 1), (array([59,  0,  0]), 3882), (array([59,  0,  1]), 2333), (array([ 59, 100,   0]), 586), (array([ 59, 100,   1]), 1370), (array([ 59, 200,   0]), 221), (array([ 59, 200,   1]), 833), (array([ 59, 300,   0]), 10), (array([ 59, 300,   1]), 8), (array([ 59, 400,   0]), 49), (array([ 59, 400,   1]), 45), (array([ 59, 500,   0]), 67), (array([ 59, 500,   1]), 186), (array([ 59, 600,   0]), 7), (array([ 59, 600,   1]), 4), (array([ 59, 700,   0]), 9), (array([ 59, 700,   1]), 25), (array([ 59, 800,   0]), 9), (array([ 59, 800,   1]), 2), (array([ 59, 900,   1]), 11), (array([  59, 1000,    0]), 9), (array([  59, 1000,    1]), 30), (array([  59, 1200,    0]), 5), (array([  59, 1200,    1]), 4), (array([  59, 1400,    0]), 2), (array([  59, 1400,    1]), 13), (array([  59, 1500,    0]), 1), (array([  59, 1700,    0]), 2), (array([  59, 1800,    0]), 1), (array([  59, 1900,    0]), 1), (array([  59, 1900,    1]), 1), (array([  59, 2200,    1]), 1), (array([  59, 2400,    0]), 1), (array([  59, 2400,    1]), 1), (array([  59, 2600,    0]), 1), (array([  59, 2900,    1]), 2), (array([  59, 3100,    0]), 3), (array([  59, 3800,    0]), 2), (array([  59, 4600,    0]), 1), (array([60,  0,  0]), 6125), (array([60,  0,  1]), 3761), (array([ 60, 100,   0]), 1039), (array([ 60, 100,   1]), 2511), (array([ 60, 200,   0]), 452), (array([ 60, 200,   1]), 1121), (array([ 60, 300,   0]), 27), (array([ 60, 300,   1]), 10), (array([ 60, 400,   0]), 104), (array([ 60, 400,   1]), 77), (array([ 60, 500,   0]), 59), (array([ 60, 500,   1]), 261), (array([ 60, 600,   0]), 10), (array([ 60, 600,   1]), 9), (array([ 60, 700,   0]), 14), (array([ 60, 700,   1]), 57), (array([ 60, 800,   0]), 7), (array([ 60, 800,   1]), 5), (array([ 60, 900,   0]), 1), (array([ 60, 900,   1]), 14), (array([  60, 1000,    0]), 21), (array([  60, 1000,    1]), 54), (array([  60, 1100,    0]), 2), (array([  60, 1200,    1]), 4), (array([  60, 1300,    0]), 5), (array([  60, 1300,    1]), 1), (array([  60, 1400,    0]), 1), (array([  60, 1400,    1]), 14), (array([  60, 1600,    0]), 1), (array([  60, 1700,    0]), 5), (array([  60, 1800,    0]), 1), (array([  60, 1900,    0]), 4), (array([  60, 1900,    1]), 4), (array([  60, 2200,    0]), 3), (array([  60, 2300,    0]), 3), (array([  60, 2400,    0]), 1), (array([  60, 2600,    0]), 3), (array([  60, 2900,    0]), 2), (array([  60, 3100,    0]), 2), (array([  60, 3400,    0]), 1), (array([  60, 3800,    0]), 2), (array([  60, 4100,    0]), 1), (array([  60, 4400,    0]), 1), (array([  60, 5300,    0]), 2), (array([  60, 6100,    0]), 1), (array([  60, 6200,    0]), 1), (array([  60, 7200,    0]), 1), (array([   60, 11000,     0]), 1), (array([61,  0,  0]), 5432), (array([61,  0,  1]), 2962), (array([ 61, 100,   0]), 641), (array([ 61, 100,   1]), 1929), (array([ 61, 200,   0]), 339), (array([ 61, 200,   1]), 1263), (array([ 61, 300,   0]), 32), (array([ 61, 300,   1]), 15), (array([ 61, 400,   0]), 65), (array([ 61, 400,   1]), 72), (array([ 61, 500,   0]), 71), (array([ 61, 500,   1]), 252), (array([ 61, 600,   0]), 11), (array([ 61, 600,   1]), 8), (array([ 61, 700,   0]), 20), (array([ 61, 700,   1]), 52), (array([ 61, 800,   0]), 8), (array([ 61, 800,   1]), 6), (array([ 61, 900,   0]), 3), (array([ 61, 900,   1]), 8), (array([  61, 1000,    0]), 9), (array([  61, 1000,    1]), 67), (array([  61, 1100,    0]), 6), (array([  61, 1200,    0]), 3), (array([  61, 1200,    1]), 4), (array([  61, 1400,    0]), 2), (array([  61, 1400,    1]), 15), (array([  61, 1700,    0]), 8), (array([  61, 1700,    1]), 1), (array([  61, 1900,    0]), 5), (array([  61, 1900,    1]), 6), (array([  61, 2200,    0]), 1), (array([  61, 2300,    0]), 1), (array([  61, 2400,    0]), 1), (array([  61, 2600,    0]), 1), (array([  61, 2800,    0]), 1), (array([  61, 3100,    0]), 1), (array([  61, 3600,    1]), 1), (array([62,  0,  0]), 8412), (array([62,  0,  1]), 4644), (array([ 62, 100,   0]), 1021), (array([ 62, 100,   1]), 3540), (array([ 62, 200,   0]), 709), (array([ 62, 200,   1]), 1595), (array([ 62, 300,   0]), 26), (array([ 62, 300,   1]), 19), (array([ 62, 400,   0]), 147), (array([ 62, 400,   1]), 113), (array([ 62, 500,   0]), 98), (array([ 62, 500,   1]), 436), (array([ 62, 600,   0]), 10), (array([ 62, 600,   1]), 1), (array([ 62, 700,   0]), 33), (array([ 62, 700,   1]), 72), (array([ 62, 800,   0]), 16), (array([ 62, 800,   1]), 12), (array([ 62, 900,   0]), 4), (array([ 62, 900,   1]), 4), (array([  62, 1000,    0]), 14), (array([  62, 1000,    1]), 66), (array([  62, 1100,    0]), 4), (array([  62, 1100,    1]), 1), (array([  62, 1200,    0]), 8), (array([  62, 1200,    1]), 5), (array([  62, 1300,    0]), 3), (array([  62, 1400,    0]), 4), (array([  62, 1400,    1]), 14), (array([  62, 1700,    0]), 3), (array([  62, 1800,    0]), 3), (array([  62, 1900,    0]), 1), (array([  62, 1900,    1]), 10), (array([  62, 2100,    0]), 2), (array([  62, 2200,    0]), 5), (array([  62, 2200,    1]), 4), (array([  62, 2400,    0]), 3), (array([  62, 2500,    0]), 1), (array([  62, 2600,    0]), 1), (array([  62, 2900,    0]), 1), (array([  62, 2900,    1]), 1), (array([  62, 3100,    0]), 1), (array([  62, 3400,    1]), 1), (array([  62, 3700,    0]), 3), (array([  62, 3800,    0]), 1), (array([  62, 5800,    0]), 3), (array([  62, 8200,    0]), 1), (array([63,  0,  0]), 7326), (array([63,  0,  1]), 4120), (array([ 63, 100,   0]), 996), (array([ 63, 100,   1]), 2714), (array([ 63, 200,   0]), 467), (array([ 63, 200,   1]), 1570), (array([ 63, 300,   0]), 30), (array([ 63, 300,   1]), 5), (array([ 63, 400,   0]), 105), (array([ 63, 400,   1]), 98), (array([ 63, 500,   0]), 117), (array([ 63, 500,   1]), 432), (array([ 63, 600,   0]), 15), (array([ 63, 600,   1]), 7), (array([ 63, 700,   0]), 23), (array([ 63, 700,   1]), 44), (array([ 63, 800,   0]), 10), (array([ 63, 800,   1]), 7), (array([ 63, 900,   0]), 3), (array([ 63, 900,   1]), 4), (array([  63, 1000,    0]), 19), (array([  63, 1000,    1]), 97), (array([  63, 1100,    0]), 3), (array([  63, 1200,    0]), 4), (array([  63, 1200,    1]), 5), (array([  63, 1300,    1]), 1), (array([  63, 1400,    0]), 8), (array([  63, 1400,    1]), 16), (array([  63, 1600,    1]), 1), (array([  63, 1700,    0]), 7), (array([  63, 1700,    1]), 1), (array([  63, 1800,    1]), 1), (array([  63, 1900,    0]), 3), (array([  63, 1900,    1]), 14), (array([  63, 2100,    0]), 2), (array([  63, 2200,    0]), 1), (array([  63, 2200,    1]), 1), (array([  63, 3100,    1]), 1), (array([  63, 3600,    0]), 1), (array([  63, 3800,    1]), 3), (array([  63, 4200,    0]), 1), (array([  63, 5800,    0]), 1), (array([64,  0,  0]), 8695), (array([64,  0,  1]), 4506), (array([ 64, 100,   0]), 1230), (array([ 64, 100,   1]), 3579), (array([ 64, 200,   0]), 410), (array([ 64, 200,   1]), 1760), (array([ 64, 300,   0]), 29), (array([ 64, 300,   1]), 31), (array([ 64, 400,   0]), 117), (array([ 64, 400,   1]), 112), (array([ 64, 500,   0]), 102), (array([ 64, 500,   1]), 408), (array([ 64, 600,   0]), 10), (array([ 64, 600,   1]), 8), (array([ 64, 700,   0]), 23), (array([ 64, 700,   1]), 88), (array([ 64, 800,   0]), 14), (array([ 64, 800,   1]), 17), (array([ 64, 900,   0]), 8), (array([ 64, 900,   1]), 22), (array([  64, 1000,    0]), 10), (array([  64, 1000,    1]), 102), (array([  64, 1100,    0]), 1), (array([  64, 1200,    0]), 9), (array([  64, 1200,    1]), 12), (array([  64, 1300,    0]), 5), (array([  64, 1400,    0]), 7), (array([  64, 1400,    1]), 31), (array([  64, 1600,    0]), 1), (array([  64, 1700,    0]), 6), (array([  64, 1700,    1]), 1), (array([  64, 1800,    0]), 2), (array([  64, 1900,    1]), 8), (array([  64, 2200,    0]), 1), (array([  64, 2200,    1]), 2), (array([  64, 2400,    0]), 3), (array([  64, 2400,    1]), 1), (array([  64, 2500,    0]), 2), (array([  64, 2800,    0]), 1), (array([  64, 2900,    0]), 3), (array([  64, 2900,    1]), 3), (array([  64, 3800,    0]), 1), (array([  64, 5300,    0]), 1), (array([65,  0,  0]), 9634), (array([65,  0,  1]), 5159), (array([ 65, 100,   0]), 1357), (array([ 65, 100,   1]), 3956), (array([ 65, 200,   0]), 581), (array([ 65, 200,   1]), 1840), (array([ 65, 300,   0]), 37), (array([ 65, 300,   1]), 28), (array([ 65, 400,   0]), 89), (array([ 65, 400,   1]), 130), (array([ 65, 500,   0]), 90), (array([ 65, 500,   1]), 469), (array([ 65, 600,   0]), 12), (array([ 65, 600,   1]), 22), (array([ 65, 700,   0]), 34), (array([ 65, 700,   1]), 97), (array([ 65, 800,   0]), 12), (array([ 65, 800,   1]), 7), (array([ 65, 900,   0]), 5), (array([ 65, 900,   1]), 16), (array([  65, 1000,    0]), 9), (array([  65, 1000,    1]), 99), (array([  65, 1100,    0]), 1), (array([  65, 1200,    0]), 2), (array([  65, 1200,    1]), 1), (array([  65, 1300,    1]), 6), (array([  65, 1400,    0]), 4), (array([  65, 1400,    1]), 46), (array([  65, 1600,    0]), 4), (array([  65, 1700,    0]), 4), (array([  65, 1700,    1]), 1), (array([  65, 1800,    0]), 2), (array([  65, 1900,    0]), 2), (array([  65, 1900,    1]), 7), (array([  65, 2200,    0]), 1), (array([  65, 2200,    1]), 1), (array([  65, 2300,    0]), 1), (array([  65, 2900,    1]), 1), (array([  65, 4300,    1]), 1), (array([  65, 4600,    0]), 2), (array([  65, 4900,    0]), 1), (array([   65, 10100,     0]), 1), (array([   65, 16300,     0]), 1), (array([   65, 20400,     0]), 1), (array([66,  0,  0]), 8765), (array([66,  0,  1]), 4357), (array([ 66, 100,   0]), 816), (array([ 66, 100,   1]), 3218), (array([ 66, 200,   0]), 361), (array([ 66, 200,   1]), 1808), (array([ 66, 300,   0]), 24), (array([ 66, 300,   1]), 20), (array([ 66, 400,   0]), 85), (array([ 66, 400,   1]), 137), (array([ 66, 500,   0]), 101), (array([ 66, 500,   1]), 452), (array([ 66, 600,   0]), 10), (array([ 66, 600,   1]), 2), (array([ 66, 700,   0]), 11), (array([ 66, 700,   1]), 75), (array([ 66, 800,   0]), 15), (array([ 66, 800,   1]), 10), (array([ 66, 900,   0]), 7), (array([ 66, 900,   1]), 10), (array([  66, 1000,    0]), 12), (array([  66, 1000,    1]), 78), (array([  66, 1100,    0]), 1), (array([  66, 1200,    0]), 4), (array([  66, 1200,    1]), 6), (array([  66, 1300,    0]), 5), (array([  66, 1300,    1]), 2), (array([  66, 1400,    0]), 4), (array([  66, 1400,    1]), 40), (array([  66, 1600,    0]), 2), (array([  66, 1700,    0]), 4), (array([  66, 1800,    1]), 2), (array([  66, 1900,    1]), 9), (array([  66, 2200,    1]), 2), (array([  66, 2400,    0]), 1), (array([  66, 2400,    1]), 2), (array([  66, 2800,    0]), 1), (array([  66, 2900,    0]), 1), (array([  66, 2900,    1]), 1), (array([  66, 3800,    0]), 2), (array([  66, 3800,    1]), 1), (array([67,  0,  0]), 12870), (array([67,  0,  1]), 6302), (array([ 67, 100,   0]), 1527), (array([ 67, 100,   1]), 5401), (array([ 67, 200,   0]), 617), (array([ 67, 200,   1]), 2479), (array([ 67, 300,   0]), 33), (array([ 67, 300,   1]), 22), (array([ 67, 400,   0]), 206), (array([ 67, 400,   1]), 239), (array([ 67, 500,   0]), 127), (array([ 67, 500,   1]), 756), (array([ 67, 600,   0]), 12), (array([ 67, 600,   1]), 18), (array([ 67, 700,   0]), 24), (array([ 67, 700,   1]), 98), (array([ 67, 800,   0]), 14), (array([ 67, 800,   1]), 6), (array([ 67, 900,   0]), 2), (array([ 67, 900,   1]), 10), (array([  67, 1000,    0]), 38), (array([  67, 1000,    1]), 124), (array([  67, 1100,    0]), 1), (array([  67, 1200,    0]), 4), (array([  67, 1200,    1]), 7), (array([  67, 1300,    1]), 6), (array([  67, 1400,    0]), 15), (array([  67, 1400,    1]), 22), (array([  67, 1600,    0]), 3), (array([  67, 1700,    0]), 4), (array([  67, 1700,    1]), 3), (array([  67, 1800,    0]), 1), (array([  67, 1900,    1]), 6), (array([  67, 2200,    0]), 1), (array([  67, 2200,    1]), 3), (array([  67, 2300,    0]), 1), (array([  67, 2900,    0]), 1), (array([  67, 2900,    1]), 6), (array([  67, 3000,    0]), 1), (array([  67, 3100,    0]), 1), (array([  67, 3600,    1]), 1), (array([  67, 3700,    0]), 2), (array([  67, 4200,    0]), 2), (array([  67, 4500,    0]), 1), (array([  67, 8600,    0]), 1), (array([68,  0,  0]), 10980), (array([68,  0,  1]), 5302), (array([ 68, 100,   0]), 1094), (array([ 68, 100,   1]), 4231), (array([ 68, 200,   0]), 540), (array([ 68, 200,   1]), 2221), (array([ 68, 300,   0]), 33), (array([ 68, 300,   1]), 20), (array([ 68, 400,   0]), 87), (array([ 68, 400,   1]), 175), (array([ 68, 500,   0]), 121), (array([ 68, 500,   1]), 650), (array([ 68, 600,   0]), 6), (array([ 68, 600,   1]), 18), (array([ 68, 700,   0]), 19), (array([ 68, 700,   1]), 92), (array([ 68, 800,   0]), 12), (array([ 68, 800,   1]), 9), (array([ 68, 900,   0]), 2), (array([ 68, 900,   1]), 14), (array([  68, 1000,    0]), 11), (array([  68, 1000,    1]), 130), (array([  68, 1100,    0]), 3), (array([  68, 1200,    0]), 5), (array([  68, 1200,    1]), 8), (array([  68, 1300,    1]), 2), (array([  68, 1400,    0]), 4), (array([  68, 1400,    1]), 30), (array([  68, 1700,    0]), 3), (array([  68, 1700,    1]), 2), (array([  68, 1800,    1]), 3), (array([  68, 1900,    0]), 1), (array([  68, 1900,    1]), 21), (array([  68, 2100,    1]), 2), (array([  68, 2200,    0]), 1), (array([  68, 2200,    1]), 2), (array([  68, 2400,    0]), 1), (array([  68, 2500,    1]), 1), (array([  68, 2600,    0]), 1), (array([  68, 2900,    1]), 3), (array([  68, 3800,    0]), 1), (array([  68, 4000,    0]), 1), (array([  68, 4300,    0]), 4), (array([  68, 5000,    0]), 1), (array([  68, 5300,    0]), 1), (array([  68, 6200,    0]), 1), (array([  68, 7700,    0]), 1), (array([  68, 7800,    0]), 1), (array([   68, 28300,     0]), 1), (array([69,  0,  0]), 13454), (array([69,  0,  1]), 5746), (array([ 69, 100,   0]), 1435), (array([ 69, 100,   1]), 5786), (array([ 69, 200,   0]), 579), (array([ 69, 200,   1]), 2842), (array([ 69, 300,   0]), 59), (array([ 69, 300,   1]), 46), (array([ 69, 400,   0]), 177), (array([ 69, 400,   1]), 230), (array([ 69, 500,   0]), 143), (array([ 69, 500,   1]), 841), (array([ 69, 600,   0]), 7), (array([ 69, 600,   1]), 14), (array([ 69, 700,   0]), 23), (array([ 69, 700,   1]), 180), (array([ 69, 800,   0]), 15), (array([ 69, 800,   1]), 25), (array([ 69, 900,   0]), 3), (array([ 69, 900,   1]), 27), (array([  69, 1000,    0]), 19), (array([  69, 1000,    1]), 142), (array([  69, 1100,    0]), 7), (array([  69, 1200,    0]), 6), (array([  69, 1200,    1]), 14), (array([  69, 1300,    0]), 1), (array([  69, 1300,    1]), 1), (array([  69, 1400,    0]), 4), (array([  69, 1400,    1]), 33), (array([  69, 1600,    1]), 1), (array([  69, 1700,    0]), 2), (array([  69, 1700,    1]), 1), (array([  69, 1800,    1]), 1), (array([  69, 1900,    1]), 11), (array([  69, 2000,    0]), 1), (array([  69, 2200,    1]), 1), (array([  69, 2500,    0]), 1), (array([  69, 2800,    0]), 1), (array([  69, 2900,    0]), 3), (array([  69, 3100,    1]), 2), (array([  69, 3400,    0]), 2), (array([  69, 4400,    0]), 1), (array([  69, 4800,    0]), 1), (array([70,  0,  0]), 12460), (array([70,  0,  1]), 5387), (array([ 70, 100,   0]), 1386), (array([ 70, 100,   1]), 5306), (array([ 70, 200,   0]), 535), (array([ 70, 200,   1]), 2623), (array([ 70, 300,   0]), 21), (array([ 70, 300,   1]), 21), (array([ 70, 400,   0]), 139), (array([ 70, 400,   1]), 193), (array([ 70, 500,   0]), 58), (array([ 70, 500,   1]), 838), (array([ 70, 600,   0]), 11), (array([ 70, 600,   1]), 20), (array([ 70, 700,   0]), 28), (array([ 70, 700,   1]), 93), (array([ 70, 800,   0]), 5), (array([ 70, 800,   1]), 18), (array([ 70, 900,   0]), 3), (array([ 70, 900,   1]), 7), (array([  70, 1000,    0]), 24), (array([  70, 1000,    1]), 136), (array([  70, 1100,    0]), 3), (array([  70, 1100,    1]), 2), (array([  70, 1200,    0]), 9), (array([  70, 1200,    1]), 5), (array([  70, 1300,    0]), 5), (array([  70, 1300,    1]), 3), (array([  70, 1400,    0]), 3), (array([  70, 1400,    1]), 38), (array([  70, 1500,    0]), 1), (array([  70, 1600,    0]), 1), (array([  70, 1700,    0]), 6), (array([  70, 1700,    1]), 2), (array([  70, 1800,    1]), 1), (array([  70, 1900,    0]), 2), (array([  70, 1900,    1]), 11), (array([  70, 2200,    0]), 4), (array([  70, 2200,    1]), 3), (array([  70, 2300,    0]), 1), (array([  70, 2800,    0]), 1), (array([  70, 2900,    1]), 1), (array([  70, 3100,    0]), 1), (array([  70, 3400,    1]), 6), (array([  70, 3800,    0]), 2), (array([   70, 24000,     0]), 2), (array([   70, 27700,     0]), 1), (array([    70, 122400,      0]), 1), (array([    70, 129600,      0]), 1), (array([71,  0,  0]), 12402), (array([71,  0,  1]), 5258), (array([ 71, 100,   0]), 1313), (array([ 71, 100,   1]), 5434), (array([ 71, 200,   0]), 472), (array([ 71, 200,   1]), 2599), (array([ 71, 300,   0]), 40), (array([ 71, 300,   1]), 23), (array([ 71, 400,   0]), 178), (array([ 71, 400,   1]), 213), (array([ 71, 500,   0]), 97), (array([ 71, 500,   1]), 695), (array([ 71, 600,   0]), 15), (array([ 71, 600,   1]), 25), (array([ 71, 700,   0]), 21), (array([ 71, 700,   1]), 133), (array([ 71, 800,   0]), 9), (array([ 71, 800,   1]), 1), (array([ 71, 900,   0]), 5), (array([ 71, 900,   1]), 21), (array([  71, 1000,    0]), 25), (array([  71, 1000,    1]), 122), (array([  71, 1100,    0]), 5), (array([  71, 1200,    0]), 5), (array([  71, 1200,    1]), 24), (array([  71, 1300,    1]), 4), (array([  71, 1400,    0]), 7), (array([  71, 1400,    1]), 45), (array([  71, 1700,    0]), 8), (array([  71, 1700,    1]), 1), (array([  71, 1800,    0]), 1), (array([  71, 1900,    0]), 2), (array([  71, 1900,    1]), 5), (array([  71, 2200,    1]), 2), (array([  71, 2400,    1]), 2), (array([  71, 2500,    0]), 2), (array([  71, 2900,    0]), 1), (array([  71, 2900,    1]), 5), (array([  71, 3800,    0]), 3), (array([  71, 4000,    0]), 1), (array([  71, 4800,    0]), 1), (array([  71, 5800,    1]), 1), (array([72,  0,  0]), 16190), (array([72,  0,  1]), 6236), (array([ 72, 100,   0]), 1669), (array([ 72, 100,   1]), 7728), (array([ 72, 200,   0]), 653), (array([ 72, 200,   1]), 3285), (array([ 72, 300,   0]), 59), (array([ 72, 300,   1]), 15), (array([ 72, 400,   0]), 175), (array([ 72, 400,   1]), 261), (array([ 72, 500,   0]), 162), (array([ 72, 500,   1]), 1040), (array([ 72, 600,   0]), 10), (array([ 72, 600,   1]), 18), (array([ 72, 700,   0]), 32), (array([ 72, 700,   1]), 155), (array([ 72, 800,   0]), 7), (array([ 72, 800,   1]), 13), (array([ 72, 900,   0]), 5), (array([ 72, 900,   1]), 14), (array([  72, 1000,    0]), 36), (array([  72, 1000,    1]), 156), (array([  72, 1100,    0]), 3), (array([  72, 1200,    0]), 6), (array([  72, 1200,    1]), 17), (array([  72, 1300,    0]), 1), (array([  72, 1300,    1]), 5), (array([  72, 1400,    0]), 7), (array([  72, 1400,    1]), 71), (array([  72, 1700,    0]), 3), (array([  72, 1700,    1]), 5), (array([  72, 1800,    0]), 2), (array([  72, 1900,    0]), 1), (array([  72, 1900,    1]), 2), (array([  72, 2000,    0]), 1), (array([  72, 2100,    0]), 1), (array([  72, 2200,    1]), 1), (array([  72, 2400,    0]), 3), (array([  72, 2400,    1]), 1), (array([  72, 3100,    1]), 2), (array([  72, 3800,    1]), 1), (array([  72, 4200,    0]), 1), (array([  72, 4300,    1]), 1), (array([73,  0,  0]), 11553), (array([73,  0,  1]), 4909), (array([ 73, 100,   0]), 1444), (array([ 73, 100,   1]), 5298), (array([ 73, 200,   0]), 479), (array([ 73, 200,   1]), 2301), (array([ 73, 300,   0]), 16), (array([ 73, 300,   1]), 33), (array([ 73, 400,   0]), 78), (array([ 73, 400,   1]), 226), (array([ 73, 500,   0]), 126), (array([ 73, 500,   1]), 662), (array([ 73, 600,   0]), 10), (array([ 73, 600,   1]), 21), (array([ 73, 700,   0]), 40), (array([ 73, 700,   1]), 138), (array([ 73, 800,   0]), 5), (array([ 73, 800,   1]), 10), (array([ 73, 900,   0]), 5), (array([ 73, 900,   1]), 13), (array([  73, 1000,    0]), 11), (array([  73, 1000,    1]), 112), (array([  73, 1100,    0]), 5), (array([  73, 1200,    0]), 4), (array([  73, 1200,    1]), 10), (array([  73, 1300,    0]), 2), (array([  73, 1300,    1]), 5), (array([  73, 1400,    0]), 3), (array([  73, 1400,    1]), 41), (array([  73, 1600,    0]), 8), (array([  73, 1600,    1]), 2), (array([  73, 1700,    0]), 1), (array([  73, 1900,    0]), 4), (array([  73, 1900,    1]), 12), (array([  73, 2000,    0]), 1), (array([  73, 2200,    1]), 2), (array([  73, 2400,    0]), 2), (array([  73, 2400,    1]), 2), (array([  73, 2600,    1]), 1), (array([  73, 2900,    1]), 4), (array([  73, 3400,    0]), 2), (array([  73, 3800,    0]), 2), (array([   73, 11500,     0]), 1), (array([74,  0,  0]), 15940), (array([74,  0,  1]), 5938), (array([ 74, 100,   0]), 1927), (array([ 74, 100,   1]), 8279), (array([ 74, 200,   0]), 990), (array([ 74, 200,   1]), 3350), (array([ 74, 300,   0]), 25), (array([ 74, 300,   1]), 62), (array([ 74, 400,   0]), 204), (array([ 74, 400,   1]), 304), (array([ 74, 500,   0]), 96), (array([ 74, 500,   1]), 965), (array([ 74, 600,   0]), 17), (array([ 74, 600,   1]), 14), (array([ 74, 700,   0]), 39), (array([ 74, 700,   1]), 128), (array([ 74, 800,   0]), 3), (array([ 74, 800,   1]), 25), (array([ 74, 900,   0]), 3), (array([ 74, 900,   1]), 19), (array([  74, 1000,    0]), 17), (array([  74, 1000,    1]), 143), (array([  74, 1100,    0]), 7), (array([  74, 1200,    0]), 2), (array([  74, 1200,    1]), 9), (array([  74, 1300,    0]), 4), (array([  74, 1400,    0]), 3), (array([  74, 1400,    1]), 39), (array([  74, 1600,    0]), 1), (array([  74, 1700,    0]), 3), (array([  74, 1700,    1]), 4), (array([  74, 1800,    0]), 2), (array([  74, 1900,    0]), 1), (array([  74, 1900,    1]), 4), (array([  74, 2000,    0]), 2), (array([  74, 2000,    1]), 1), (array([  74, 2200,    1]), 3), (array([  74, 2800,    0]), 1), (array([  74, 2900,    0]), 2), (array([  74, 2900,    1]), 2), (array([  74, 3000,    0]), 1), (array([  74, 4300,    1]), 1), (array([75,  0,  0]), 11402), (array([75,  0,  1]), 4509), (array([ 75, 100,   0]), 1307), (array([ 75, 100,   1]), 5482), (array([ 75, 200,   0]), 593), (array([ 75, 200,   1]), 2226), (array([ 75, 300,   0]), 40), (array([ 75, 300,   1]), 39), (array([ 75, 400,   0]), 109), (array([ 75, 400,   1]), 172), (array([ 75, 500,   0]), 97), (array([ 75, 500,   1]), 786), (array([ 75, 600,   0]), 12), (array([ 75, 600,   1]), 13), (array([ 75, 700,   0]), 7), (array([ 75, 700,   1]), 145), (array([ 75, 800,   0]), 5), (array([ 75, 800,   1]), 17), (array([ 75, 900,   0]), 1), (array([ 75, 900,   1]), 2), (array([  75, 1000,    0]), 15), (array([  75, 1000,    1]), 133), (array([  75, 1100,    1]), 2), (array([  75, 1200,    0]), 2), (array([  75, 1200,    1]), 8), (array([  75, 1300,    1]), 3), (array([  75, 1400,    0]), 6), (array([  75, 1400,    1]), 49), (array([  75, 1600,    0]), 1), (array([  75, 1700,    0]), 3), (array([  75, 1700,    1]), 7), (array([  75, 1900,    0]), 1), (array([  75, 1900,    1]), 8), (array([  75, 2200,    0]), 3), (array([  75, 2200,    1]), 3), (array([  75, 2300,    0]), 2), (array([  75, 2400,    0]), 1), (array([  75, 2900,    1]), 3), (array([76,  0,  0]), 12905), (array([76,  0,  1]), 4568), (array([ 76, 100,   0]), 1717), (array([ 76, 100,   1]), 6874), (array([ 76, 200,   0]), 456), (array([ 76, 200,   1]), 2455), (array([ 76, 300,   0]), 41), (array([ 76, 300,   1]), 22), (array([ 76, 400,   0]), 148), (array([ 76, 400,   1]), 324), (array([ 76, 500,   0]), 71), (array([ 76, 500,   1]), 800), (array([ 76, 600,   0]), 9), (array([ 76, 600,   1]), 11), (array([ 76, 700,   0]), 12), (array([ 76, 700,   1]), 151), (array([ 76, 800,   0]), 17), (array([ 76, 800,   1]), 43), (array([ 76, 900,   1]), 18), (array([  76, 1000,    0]), 24), (array([  76, 1000,    1]), 110), (array([  76, 1100,    0]), 3), (array([  76, 1100,    1]), 1), (array([  76, 1200,    0]), 4), (array([  76, 1200,    1]), 28), (array([  76, 1300,    0]), 7), (array([  76, 1300,    1]), 2), (array([  76, 1400,    0]), 3), (array([  76, 1400,    1]), 17), (array([  76, 1700,    0]), 3), (array([  76, 1700,    1]), 1), (array([  76, 1800,    0]), 3), (array([  76, 1800,    1]), 1), (array([  76, 1900,    1]), 3), (array([  76, 2200,    1]), 1), (array([  76, 2300,    0]), 2), (array([  76, 2400,    0]), 2), (array([  76, 2900,    0]), 2), (array([  76, 3800,    0]), 2), (array([  76, 3800,    1]), 1), (array([77,  0,  0]), 12791), (array([77,  0,  1]), 4507), (array([ 77, 100,   0]), 1571), (array([ 77, 100,   1]), 6675), (array([ 77, 200,   0]), 558), (array([ 77, 200,   1]), 2523), (array([ 77, 300,   0]), 23), (array([ 77, 300,   1]), 88), (array([ 77, 400,   0]), 137), (array([ 77, 400,   1]), 260), (array([ 77, 500,   0]), 90), (array([ 77, 500,   1]), 764), (array([ 77, 600,   0]), 15), (array([ 77, 600,   1]), 14), (array([ 77, 700,   0]), 10), (array([ 77, 700,   1]), 183), (array([ 77, 800,   0]), 7), (array([ 77, 800,   1]), 26), (array([ 77, 900,   1]), 4), (array([  77, 1000,    0]), 15), (array([  77, 1000,    1]), 149), (array([  77, 1100,    0]), 2), (array([  77, 1200,    0]), 8), (array([  77, 1200,    1]), 10), (array([  77, 1300,    0]), 6), (array([  77, 1300,    1]), 6), (array([  77, 1400,    0]), 5), (array([  77, 1400,    1]), 26), (array([  77, 1600,    0]), 2), (array([  77, 1600,    1]), 1), (array([  77, 1700,    0]), 2), (array([  77, 1700,    1]), 2), (array([  77, 1800,    1]), 4), (array([  77, 1900,    0]), 5), (array([  77, 1900,    1]), 7), (array([  77, 2200,    0]), 3), (array([  77, 2200,    1]), 2), (array([  77, 2400,    1]), 3), (array([  77, 2900,    1]), 1), (array([  77, 3400,    0]), 1), (array([  77, 3600,    0]), 2), (array([  77, 3800,    0]), 1), (array([  77, 4200,    0]), 2), (array([  77, 4800,    1]), 1), (array([78,  0,  0]), 9249), (array([78,  0,  1]), 3393), (array([ 78, 100,   0]), 1032), (array([ 78, 100,   1]), 4742), (array([ 78, 200,   0]), 316), (array([ 78, 200,   1]), 1710), (array([ 78, 300,   0]), 16), (array([ 78, 300,   1]), 13), (array([ 78, 400,   0]), 71), (array([ 78, 400,   1]), 213), (array([ 78, 500,   0]), 65), (array([ 78, 500,   1]), 487), (array([ 78, 600,   0]), 3), (array([ 78, 600,   1]), 15), (array([ 78, 700,   0]), 6), (array([ 78, 700,   1]), 89), (array([ 78, 800,   0]), 8), (array([ 78, 800,   1]), 14), (array([ 78, 900,   0]), 1), (array([ 78, 900,   1]), 12), (array([  78, 1000,    0]), 6), (array([  78, 1000,    1]), 57), (array([  78, 1100,    0]), 1), (array([  78, 1100,    1]), 2), (array([  78, 1200,    0]), 2), (array([  78, 1200,    1]), 6), (array([  78, 1300,    0]), 1), (array([  78, 1400,    0]), 4), (array([  78, 1400,    1]), 19), (array([  78, 1700,    0]), 1), (array([  78, 1800,    1]), 2), (array([  78, 1900,    1]), 9), (array([  78, 2400,    0]), 2), (array([  78, 2600,    1]), 1), (array([  78, 4800,    1]), 1), (array([   78, 24500,     0]), 1), (array([79,  0,  0]), 12150), (array([79,  0,  1]), 4007), (array([ 79, 100,   0]), 1576), (array([ 79, 100,   1]), 6846), (array([ 79, 200,   0]), 452), (array([ 79, 200,   1]), 2320), (array([ 79, 300,   0]), 25), (array([ 79, 300,   1]), 47), (array([ 79, 400,   0]), 232), (array([ 79, 400,   1]), 271), (array([ 79, 500,   0]), 64), (array([ 79, 500,   1]), 720), (array([ 79, 600,   0]), 13), (array([ 79, 600,   1]), 34), (array([ 79, 700,   0]), 18), (array([ 79, 700,   1]), 141), (array([ 79, 800,   0]), 6), (array([ 79, 800,   1]), 20), (array([ 79, 900,   0]), 1), (array([ 79, 900,   1]), 4), (array([  79, 1000,    0]), 19), (array([  79, 1000,    1]), 118), (array([  79, 1100,    1]), 4), (array([  79, 1200,    0]), 6), (array([  79, 1200,    1]), 8), (array([  79, 1300,    1]), 1), (array([  79, 1400,    1]), 24), (array([  79, 1600,    0]), 3), (array([  79, 1700,    0]), 3), (array([  79, 1800,    0]), 2), (array([  79, 1900,    0]), 2), (array([  79, 1900,    1]), 6), (array([  79, 2200,    1]), 2), (array([  79, 2400,    0]), 2), (array([  79, 2800,    0]), 1), (array([  79, 2900,    1]), 5), (array([  79, 5500,    0]), 1), (array([  79, 6600,    0]), 1), (array([    79, 127700,      0]), 1), (array([80,  0,  0]), 8090), (array([80,  0,  1]), 3057), (array([ 80, 100,   0]), 917), (array([ 80, 100,   1]), 4202), (array([ 80, 200,   0]), 314), (array([ 80, 200,   1]), 1389), (array([ 80, 300,   0]), 14), (array([ 80, 300,   1]), 25), (array([ 80, 400,   0]), 47), (array([ 80, 400,   1]), 130), (array([ 80, 500,   0]), 57), (array([ 80, 500,   1]), 405), (array([ 80, 600,   0]), 6), (array([ 80, 600,   1]), 7), (array([ 80, 700,   0]), 4), (array([ 80, 700,   1]), 91), (array([ 80, 800,   0]), 5), (array([ 80, 800,   1]), 15), (array([ 80, 900,   0]), 1), (array([ 80, 900,   1]), 6), (array([  80, 1000,    0]), 8), (array([  80, 1000,    1]), 102), (array([  80, 1100,    1]), 2), (array([  80, 1200,    0]), 3), (array([  80, 1200,    1]), 3), (array([  80, 1300,    1]), 2), (array([  80, 1400,    0]), 1), (array([  80, 1400,    1]), 32), (array([  80, 1700,    0]), 4), (array([  80, 1800,    1]), 1), (array([  80, 1900,    0]), 1), (array([  80, 1900,    1]), 6), (array([  80, 2000,    1]), 1), (array([  80, 2100,    0]), 1), (array([  80, 2200,    0]), 1), (array([  80, 2200,    1]), 1), (array([  80, 2300,    0]), 1), (array([  80, 2400,    0]), 3), (array([  80, 2400,    1]), 2), (array([  80, 3200,    0]), 1), (array([81,  0,  0]), 9739), (array([81,  0,  1]), 3440), (array([ 81, 100,   0]), 1205), (array([ 81, 100,   1]), 5555), (array([ 81, 200,   0]), 319), (array([ 81, 200,   1]), 1593), (array([ 81, 300,   0]), 38), (array([ 81, 300,   1]), 55), (array([ 81, 400,   0]), 105), (array([ 81, 400,   1]), 201), (array([ 81, 500,   0]), 48), (array([ 81, 500,   1]), 403), (array([ 81, 600,   0]), 14), (array([ 81, 600,   1]), 14), (array([ 81, 700,   0]), 9), (array([ 81, 700,   1]), 98), (array([ 81, 800,   0]), 4), (array([ 81, 800,   1]), 21), (array([ 81, 900,   1]), 15), (array([  81, 1000,    0]), 4), (array([  81, 1000,    1]), 85), (array([  81, 1100,    0]), 2), (array([  81, 1100,    1]), 5), (array([  81, 1200,    0]), 3), (array([  81, 1200,    1]), 5), (array([  81, 1300,    0]), 2), (array([  81, 1300,    1]), 1), (array([  81, 1400,    0]), 3), (array([  81, 1400,    1]), 7), (array([  81, 1800,    0]), 1), (array([  81, 1900,    0]), 3), (array([  81, 1900,    1]), 3), (array([  81, 2900,    0]), 1), (array([  81, 3800,    1]), 1), (array([  81, 4800,    1]), 1), (array([   81, 51800,     0]), 1), (array([    81, 101800,      0]), 1), (array([    81, 155500,      0]), 1), (array([82,  0,  0]), 7495), (array([82,  0,  1]), 2935), (array([ 82, 100,   0]), 939), (array([ 82, 100,   1]), 3780), (array([ 82, 200,   0]), 277), (array([ 82, 200,   1]), 1343), (array([ 82, 300,   0]), 24), (array([ 82, 300,   1]), 16), (array([ 82, 400,   0]), 52), (array([ 82, 400,   1]), 134), (array([ 82, 500,   0]), 29), (array([ 82, 500,   1]), 452), (array([ 82, 600,   0]), 21), (array([ 82, 600,   1]), 9), (array([ 82, 700,   0]), 10), (array([ 82, 700,   1]), 63), (array([ 82, 800,   0]), 1), (array([ 82, 800,   1]), 13), (array([ 82, 900,   1]), 1), (array([  82, 1000,    0]), 7), (array([  82, 1000,    1]), 75), (array([  82, 1100,    0]), 2), (array([  82, 1100,    1]), 7), (array([  82, 1200,    1]), 3), (array([  82, 1400,    0]), 2), (array([  82, 1400,    1]), 26), (array([  82, 1600,    0]), 3), (array([  82, 1700,    0]), 1), (array([  82, 1700,    1]), 2), (array([  82, 1800,    0]), 1), (array([  82, 1800,    1]), 3), (array([  82, 1900,    1]), 1), (array([  82, 2000,    0]), 1), (array([  82, 2200,    0]), 3), (array([  82, 2400,    1]), 1), (array([  82, 2800,    1]), 3), (array([  82, 2900,    1]), 1), (array([83,  0,  0]), 6291), (array([83,  0,  1]), 2593), (array([ 83, 100,   0]), 864), (array([ 83, 100,   1]), 3509), (array([ 83, 200,   0]), 165), (array([ 83, 200,   1]), 904), (array([ 83, 300,   0]), 22), (array([ 83, 300,   1]), 8), (array([ 83, 400,   0]), 82), (array([ 83, 400,   1]), 94), (array([ 83, 500,   0]), 23), (array([ 83, 500,   1]), 236), (array([ 83, 600,   0]), 4), (array([ 83, 600,   1]), 8), (array([ 83, 700,   0]), 13), (array([ 83, 700,   1]), 45), (array([ 83, 800,   0]), 6), (array([ 83, 800,   1]), 8), (array([ 83, 900,   1]), 5), (array([  83, 1000,    0]), 2), (array([  83, 1000,    1]), 45), (array([  83, 1100,    1]), 1), (array([  83, 1200,    0]), 1), (array([  83, 1200,    1]), 6), (array([  83, 1300,    0]), 4), (array([  83, 1400,    0]), 1), (array([  83, 1400,    1]), 11), (array([  83, 1900,    0]), 1), (array([  83, 1900,    1]), 2), (array([  83, 2000,    0]), 2), (array([  83, 2200,    0]), 1), (array([  83, 2200,    1]), 3), (array([  83, 2900,    1]), 3), (array([  83, 4300,    1]), 1), (array([84,  0,  0]), 6915), (array([84,  0,  1]), 2688), (array([ 84, 100,   0]), 1000), (array([ 84, 100,   1]), 3867), (array([ 84, 200,   0]), 236), (array([ 84, 200,   1]), 1181), (array([ 84, 300,   0]), 36), (array([ 84, 300,   1]), 7), (array([ 84, 400,   0]), 93), (array([ 84, 400,   1]), 96), (array([ 84, 500,   0]), 36), (array([ 84, 500,   1]), 322), (array([ 84, 600,   0]), 10), (array([ 84, 600,   1]), 24), (array([ 84, 700,   0]), 4), (array([ 84, 700,   1]), 74), (array([ 84, 800,   0]), 1), (array([ 84, 800,   1]), 10), (array([ 84, 900,   0]), 2), (array([ 84, 900,   1]), 5), (array([  84, 1000,    0]), 5), (array([  84, 1000,    1]), 59), (array([  84, 1100,    0]), 3), (array([  84, 1200,    1]), 8), (array([  84, 1400,    0]), 3), (array([  84, 1400,    1]), 11), (array([  84, 1600,    0]), 1), (array([  84, 1700,    1]), 1), (array([  84, 1800,    0]), 1), (array([  84, 1900,    0]), 4), (array([  84, 1900,    1]), 2), (array([  84, 2200,    0]), 1), (array([  84, 2400,    1]), 1), (array([  84, 2900,    0]), 1), (array([  84, 2900,    1]), 1), (array([  84, 3000,    0]), 1), (array([  84, 3100,    0]), 1), (array([  84, 3600,    0]), 2), (array([  84, 4100,    0]), 1), (array([85,  0,  0]), 4666), (array([85,  0,  1]), 1932), (array([ 85, 100,   0]), 545), (array([ 85, 100,   1]), 2581), (array([ 85, 200,   0]), 172), (array([ 85, 200,   1]), 612), (array([ 85, 300,   0]), 17), (array([ 85, 300,   1]), 6), (array([ 85, 400,   0]), 26), (array([ 85, 400,   1]), 74), (array([ 85, 500,   0]), 20), (array([ 85, 500,   1]), 161), (array([ 85, 600,   0]), 6), (array([ 85, 600,   1]), 5), (array([ 85, 700,   0]), 6), (array([ 85, 700,   1]), 50), (array([ 85, 800,   0]), 9), (array([ 85, 800,   1]), 6), (array([ 85, 900,   0]), 2), (array([ 85, 900,   1]), 1), (array([  85, 1000,    0]), 2), (array([  85, 1000,    1]), 28), (array([  85, 1100,    0]), 1), (array([  85, 1100,    1]), 1), (array([  85, 1200,    0]), 1), (array([  85, 1200,    1]), 6), (array([  85, 1300,    1]), 1), (array([  85, 1400,    0]), 1), (array([  85, 1400,    1]), 5), (array([  85, 1700,    1]), 1), (array([  85, 2200,    1]), 1), (array([  85, 2300,    1]), 1), (array([  85, 2900,    1]), 2), (array([  85, 3800,    1]), 1), (array([  85, 7500,    0]), 1), (array([86,  0,  0]), 5409), (array([86,  0,  1]), 2169), (array([ 86, 100,   0]), 701), (array([ 86, 100,   1]), 3001), (array([ 86, 200,   0]), 197), (array([ 86, 200,   1]), 842), (array([ 86, 300,   0]), 31), (array([ 86, 300,   1]), 16), (array([ 86, 400,   0]), 56), (array([ 86, 400,   1]), 92), (array([ 86, 500,   0]), 20), (array([ 86, 500,   1]), 223), (array([ 86, 600,   0]), 7), (array([ 86, 600,   1]), 12), (array([ 86, 700,   0]), 5), (array([ 86, 700,   1]), 36), (array([ 86, 800,   0]), 9), (array([ 86, 800,   1]), 5), (array([ 86, 900,   0]), 5), (array([ 86, 900,   1]), 2), (array([  86, 1000,    0]), 7), (array([  86, 1000,    1]), 49), (array([  86, 1100,    0]), 2), (array([  86, 1200,    0]), 1), (array([  86, 1200,    1]), 1), (array([  86, 1300,    0]), 1), (array([  86, 1400,    0]), 4), (array([  86, 1400,    1]), 9), (array([  86, 1600,    0]), 2), (array([  86, 1700,    1]), 2), (array([  86, 1900,    0]), 2), (array([  86, 1900,    1]), 2), (array([  86, 2200,    0]), 1), (array([  86, 2200,    1]), 2), (array([  86, 2400,    0]), 2), (array([  86, 2400,    1]), 1), (array([  86, 3600,    0]), 2), (array([87,  0,  0]), 3746), (array([87,  0,  1]), 1484), (array([ 87, 100,   0]), 465), (array([ 87, 100,   1]), 2176), (array([ 87, 200,   0]), 127), (array([ 87, 200,   1]), 487), (array([ 87, 300,   0]), 14), (array([ 87, 300,   1]), 10), (array([ 87, 400,   0]), 25), (array([ 87, 400,   1]), 48), (array([ 87, 500,   0]), 29), (array([ 87, 500,   1]), 125), (array([ 87, 600,   0]), 1), (array([ 87, 600,   1]), 10), (array([ 87, 700,   0]), 3), (array([ 87, 700,   1]), 33), (array([ 87, 800,   0]), 9), (array([ 87, 800,   1]), 8), (array([ 87, 900,   0]), 1), (array([ 87, 900,   1]), 2), (array([  87, 1000,    0]), 4), (array([  87, 1000,    1]), 34), (array([  87, 1200,    1]), 1), (array([  87, 1300,    0]), 2), (array([  87, 1400,    1]), 6), (array([  87, 1600,    0]), 2), (array([  87, 1900,    1]), 3), (array([  87, 2200,    1]), 2), (array([  87, 2900,    0]), 1), (array([88,  0,  0]), 3701), (array([88,  0,  1]), 1467), (array([ 88, 100,   0]), 407), (array([ 88, 100,   1]), 1994), (array([ 88, 200,   0]), 76), (array([ 88, 200,   1]), 554), (array([ 88, 300,   0]), 10), (array([ 88, 300,   1]), 8), (array([ 88, 400,   0]), 30), (array([ 88, 400,   1]), 44), (array([ 88, 500,   0]), 12), (array([ 88, 500,   1]), 113), (array([ 88, 600,   0]), 4), (array([ 88, 600,   1]), 7), (array([ 88, 700,   0]), 9), (array([ 88, 700,   1]), 20), (array([ 88, 800,   0]), 8), (array([ 88, 800,   1]), 6), (array([ 88, 900,   1]), 7), (array([  88, 1000,    0]), 3), (array([  88, 1000,    1]), 25), (array([  88, 1100,    0]), 2), (array([  88, 1200,    0]), 1), (array([  88, 1200,    1]), 9), (array([  88, 1300,    0]), 1), (array([  88, 1400,    1]), 8), (array([  88, 1600,    1]), 2), (array([  88, 1900,    1]), 1), (array([  88, 2000,    0]), 1), (array([  88, 2200,    0]), 1), (array([  88, 2200,    1]), 1), (array([89,  0,  0]), 3298), (array([89,  0,  1]), 1375), (array([ 89, 100,   0]), 438), (array([ 89, 100,   1]), 1806), (array([ 89, 200,   0]), 89), (array([ 89, 200,   1]), 458), (array([ 89, 300,   0]), 5), (array([ 89, 300,   1]), 8), (array([ 89, 400,   0]), 23), (array([ 89, 400,   1]), 62), (array([ 89, 500,   0]), 16), (array([ 89, 500,   1]), 109), (array([ 89, 600,   0]), 4), (array([ 89, 600,   1]), 4), (array([ 89, 700,   0]), 6), (array([ 89, 700,   1]), 31), (array([ 89, 800,   0]), 4), (array([ 89, 800,   1]), 4), (array([ 89, 900,   1]), 1), (array([  89, 1000,    0]), 4), (array([  89, 1000,    1]), 21), (array([  89, 1400,    1]), 9), (array([  89, 1700,    1]), 1), (array([  89, 1900,    0]), 1), (array([  89, 2400,    1]), 1), (array([  89, 3400,    0]), 2), (array([90,  0,  0]), 2283), (array([90,  0,  1]), 913), (array([ 90, 100,   0]), 245), (array([ 90, 100,   1]), 1321), (array([ 90, 200,   0]), 65), (array([ 90, 200,   1]), 263), (array([ 90, 300,   0]), 2), (array([ 90, 300,   1]), 3), (array([ 90, 400,   0]), 9), (array([ 90, 400,   1]), 27), (array([ 90, 500,   0]), 6), (array([ 90, 500,   1]), 57), (array([ 90, 600,   0]), 2), (array([ 90, 600,   1]), 2), (array([ 90, 700,   1]), 13), (array([ 90, 800,   1]), 4), (array([  90, 1000,    0]), 1), (array([  90, 1000,    1]), 7), (array([  90, 1200,    0]), 2), (array([  90, 1300,    0]), 1), (array([  90, 1400,    1]), 2), (array([  90, 1900,    1]), 1), (array([  90, 2200,    1]), 2), (array([  90, 2800,    1]), 1), (array([91,  0,  0]), 2403), (array([91,  0,  1]), 915), (array([ 91, 100,   0]), 244), (array([ 91, 100,   1]), 1353), (array([ 91, 200,   0]), 39), (array([ 91, 200,   1]), 312), (array([ 91, 300,   0]), 1), (array([ 91, 300,   1]), 2), (array([ 91, 400,   0]), 10), (array([ 91, 400,   1]), 22), (array([ 91, 500,   0]), 5), (array([ 91, 500,   1]), 60), (array([ 91, 600,   0]), 1), (array([ 91, 600,   1]), 3), (array([ 91, 700,   0]), 1), (array([ 91, 700,   1]), 12), (array([ 91, 800,   0]), 3), (array([ 91, 800,   1]), 3), (array([  91, 1000,    1]), 24), (array([  91, 1200,    0]), 1), (array([  91, 1200,    1]), 2), (array([  91, 1300,    0]), 1), (array([  91, 1400,    0]), 1), (array([  91, 1400,    1]), 1), (array([  91, 2400,    1]), 1), (array([  91, 2800,    1]), 1), (array([  91, 2900,    0]), 1), (array([92,  0,  0]), 1910), (array([92,  0,  1]), 745), (array([ 92, 100,   0]), 224), (array([ 92, 100,   1]), 1189), (array([ 92, 200,   0]), 55), (array([ 92, 200,   1]), 199), (array([ 92, 300,   0]), 7), (array([ 92, 400,   0]), 10), (array([ 92, 400,   1]), 22), (array([ 92, 500,   0]), 10), (array([ 92, 500,   1]), 27), (array([ 92, 600,   0]), 5), (array([ 92, 600,   1]), 8), (array([ 92, 700,   1]), 15), (array([  92, 1000,    1]), 10), (array([  92, 1300,    1]), 2), (array([  92, 1400,    1]), 3), (array([  92, 2200,    1]), 1), (array([  92, 2800,    1]), 1), (array([  92, 2900,    0]), 1), (array([93,  0,  0]), 1651), (array([93,  0,  1]), 709), (array([ 93, 100,   0]), 176), (array([ 93, 100,   1]), 938), (array([ 93, 200,   0]), 40), (array([ 93, 200,   1]), 177), (array([ 93, 300,   0]), 4), (array([ 93, 300,   1]), 3), (array([ 93, 400,   0]), 12), (array([ 93, 400,   1]), 11), (array([ 93, 500,   0]), 11), (array([ 93, 500,   1]), 27), (array([ 93, 600,   0]), 3), (array([ 93, 700,   0]), 2), (array([ 93, 700,   1]), 8), (array([ 93, 800,   0]), 2), (array([ 93, 900,   1]), 2), (array([  93, 1000,    1]), 18), (array([  93, 1200,    1]), 2), (array([  93, 1400,    1]), 3), (array([  93, 1700,    1]), 2), (array([  93, 2800,    1]), 1), (array([94,  0,  0]), 1344), (array([94,  0,  1]), 592), (array([ 94, 100,   0]), 146), (array([ 94, 100,   1]), 718), (array([ 94, 200,   0]), 28), (array([ 94, 200,   1]), 162), (array([ 94, 300,   0]), 3), (array([ 94, 400,   0]), 5), (array([ 94, 400,   1]), 15), (array([ 94, 500,   0]), 6), (array([ 94, 500,   1]), 28), (array([ 94, 600,   0]), 4), (array([ 94, 600,   1]), 1), (array([ 94, 700,   1]), 9), (array([ 94, 800,   1]), 2), (array([  94, 1000,    0]), 1), (array([  94, 1000,    1]), 6), (array([  94, 1100,    0]), 2), (array([  94, 1100,    1]), 2), (array([  94, 1200,    1]), 1), (array([  94, 1400,    1]), 1), (array([  94, 2200,    1]), 1), (array([  94, 4300,    1]), 1), (array([95,  0,  0]), 989), (array([95,  0,  1]), 483), (array([ 95, 100,   0]), 122), (array([ 95, 100,   1]), 546), (array([ 95, 200,   0]), 15), (array([ 95, 200,   1]), 90), (array([ 95, 300,   0]), 4), (array([ 95, 400,   0]), 3), (array([ 95, 400,   1]), 5), (array([ 95, 500,   0]), 4), (array([ 95, 500,   1]), 6), (array([ 95, 600,   0]), 2), (array([ 95, 700,   0]), 1), (array([ 95, 700,   1]), 2), (array([ 95, 800,   0]), 3), (array([ 95, 800,   1]), 1), (array([ 95, 900,   0]), 1), (array([  95, 1000,    0]), 1), (array([  95, 1000,    1]), 11), (array([  95, 1400,    1]), 1), (array([96,  0,  0]), 862), (array([96,  0,  1]), 355), (array([ 96, 100,   0]), 95), (array([ 96, 100,   1]), 536), (array([ 96, 200,   0]), 19), (array([ 96, 200,   1]), 62), (array([ 96, 400,   0]), 2), (array([ 96, 400,   1]), 13), (array([ 96, 500,   0]), 5), (array([ 96, 500,   1]), 9), (array([ 96, 600,   1]), 2), (array([ 96, 700,   0]), 1), (array([ 96, 700,   1]), 4), (array([ 96, 800,   0]), 1), (array([  96, 1000,    0]), 1), (array([  96, 1000,    1]), 3), (array([  96, 1400,    1]), 4), (array([  96, 1700,    0]), 1), (array([  96, 2800,    0]), 1), (array([97,  0,  0]), 906), (array([97,  0,  1]), 296), (array([ 97, 100,   0]), 149), (array([ 97, 100,   1]), 718), (array([ 97, 200,   0]), 15), (array([ 97, 200,   1]), 42), (array([ 97, 300,   0]), 1), (array([ 97, 400,   0]), 1), (array([ 97, 400,   1]), 8), (array([ 97, 500,   0]), 1), (array([ 97, 500,   1]), 6), (array([ 97, 700,   0]), 3), (array([ 97, 700,   1]), 3), (array([ 97, 800,   1]), 1), (array([  97, 1000,    1]), 1), (array([  97, 1400,    1]), 1), (array([98,  0,  0]), 594), (array([98,  0,  1]), 264), (array([ 98, 100,   0]), 66), (array([ 98, 100,   1]), 341), (array([ 98, 200,   0]), 24), (array([ 98, 200,   1]), 60), (array([ 98, 400,   0]), 6), (array([ 98, 400,   1]), 10), (array([ 98, 500,   0]), 3), (array([ 98, 500,   1]), 11), (array([ 98, 700,   0]), 1), (array([ 98, 700,   1]), 3), (array([  98, 1000,    1]), 3), (array([  98, 1400,    1]), 1), (array([  98, 1900,    1]), 1), (array([99,  0,  0]), 540), (array([99,  0,  1]), 270), (array([ 99, 100,   0]), 165), (array([ 99, 100,   1]), 401), (array([ 99, 200,   0]), 6), (array([ 99, 200,   1]), 37), (array([ 99, 300,   0]), 6), (array([ 99, 400,   1]), 2), (array([ 99, 500,   0]), 3), (array([ 99, 500,   1]), 4), (array([ 99, 600,   1]), 1), (array([ 99, 700,   1]), 3), (array([  99, 1400,    1]), 2), (array([100,   0,   0]), 523), (array([100,   0,   1]), 268), (array([100, 100,   0]), 121), (array([100, 100,   1]), 350), (array([100, 200,   0]), 20), (array([100, 200,   1]), 33), (array([100, 300,   0]), 1), (array([100, 300,   1]), 1), (array([100, 400,   0]), 2), (array([100, 400,   1]), 5), (array([100, 500,   1]), 8), (array([100, 700,   0]), 1), (array([100, 700,   1]), 1), (array([ 100, 1000,    1]), 2), (array([ 100, 1200,    0]), 1), (array([ 100, 1300,    1]), 1), (array([101,   0,   0]), 259), (array([101,   0,   1]), 121), (array([101, 100,   0]), 39), (array([101, 100,   1]), 147), (array([101, 200,   0]), 6), (array([101, 200,   1]), 18), (array([101, 300,   1]), 2), (array([101, 400,   0]), 2), (array([101, 400,   1]), 8), (array([101, 500,   0]), 2), (array([101, 500,   1]), 9), (array([101, 600,   0]), 3), (array([101, 700,   0]), 3), (array([101, 700,   1]), 3), (array([ 101, 1000,    0]), 1), (array([ 101, 1000,    1]), 7), (array([ 101, 1400,    1]), 1), (array([ 101, 2900,    1]), 1), (array([ 101, 3800,    0]), 2), (array([102,   0,   0]), 83), (array([102,   0,   1]), 36), (array([102, 100,   0]), 9), (array([102, 100,   1]), 51), (array([102, 200,   0]), 5), (array([102, 200,   1]), 8), (array([102, 400,   0]), 2), (array([102, 400,   1]), 1), (array([102, 500,   1]), 4), (array([ 102, 3400,    0]), 1), (array([103,   0,   0]), 61), (array([103,   0,   1]), 37), (array([103, 100,   0]), 12), (array([103, 100,   1]), 37), (array([103, 200,   0]), 2), (array([103, 200,   1]), 5), (array([103, 400,   0]), 5), (array([103, 400,   1]), 1), (array([103, 500,   0]), 1), (array([103, 500,   1]), 1), (array([104,   0,   0]), 12), (array([104,   0,   1]), 6), (array([104, 100,   0]), 2), (array([104, 100,   1]), 6), (array([104, 200,   1]), 4), (array([104, 500,   0]), 1), (array([ 104, 3400,    0]), 1), (array([105,   0,   0]), 5), (array([105,   0,   1]), 3), (array([105, 100,   0]), 2), (array([105, 100,   1]), 2), (array([105, 200,   0]), 1), (array([105, 200,   1]), 1), (array([ 105, 1400,    1]), 1), (array([ 105, 1700,    1]), 1), (array([106,   0,   1]), 1), (array([106, 100,   0]), 1), (array([107,   0,   1]), 1), (array([107, 100,   0]), 1)]\n"
     ]
    }
   ],
   "source": [
    "print(list(zip(np.unique(X, axis=0), np.unique(X, axis=0, return_counts=True)[1])))"
   ]
  },
  {
   "cell_type": "code",
   "execution_count": 52,
   "metadata": {},
   "outputs": [
    {
     "name": "stdout",
     "output_type": "stream",
     "text": [
      "2042\n",
      "1635\n"
     ]
    }
   ],
   "source": [
    "number_unique = a\n",
    "print(len(number_unique))\n",
    "print(len(number_unique[number_unique <= 100]))"
   ]
  },
  {
   "cell_type": "markdown",
   "metadata": {},
   "source": [
    "### description of the matrix X :\n",
    "- DATA\n",
    "    - start : (0, 0, 0)\n",
    "    - end   : (1, 1, 1)\n",
    "    - else  : (note, time, velocity)\n",
    "- Shape : \n",
    "    - (763 088, 3)\n",
    "    - unique values : 11705"
   ]
  },
  {
   "cell_type": "markdown",
   "metadata": {},
   "source": [
    "## Apply transformers to the input"
   ]
  },
  {
   "cell_type": "code",
   "execution_count": null,
   "metadata": {},
   "outputs": [],
   "source": []
  },
  {
   "cell_type": "code",
   "execution_count": 30,
   "metadata": {},
   "outputs": [],
   "source": [
    "# convert values to midi"
   ]
  },
  {
   "cell_type": "code",
   "execution_count": null,
   "metadata": {},
   "outputs": [],
   "source": []
  },
  {
   "cell_type": "markdown",
   "metadata": {},
   "source": [
    "## Remove Velocity (apply default velocity)"
   ]
  },
  {
   "cell_type": "code",
   "execution_count": 31,
   "metadata": {},
   "outputs": [],
   "source": [
    "def createMidiFileWithAllMessagesWithoutVel(notes, starts, end, fileName, tempo=200):\n",
    "    file = mido.MidiFile()\n",
    "\n",
    "    track = mido.MidiTrack()\n",
    "    file.tracks.append(track)\n",
    " \n",
    "    for i in range(len(notes)):\n",
    "        # print(notes[n][i], starts[n][i], velocity[n][i])\n",
    "        \n",
    "        track.append(mido.Message('note_on', note=notes[i], time=starts[i], velocity=0 if end[i] == True else 64))\n",
    "        # f = 0\n",
    "        # while(vels[i+f] != 0 and notes[i+f] != notes[i] and i+f < len(notes)):\n",
    "        #     f += 1\n",
    "        \n",
    "        # track.append(mido.Message('note_off', note=notes[i], time=starts[i+f]))\n",
    "        \n",
    "        \n",
    "    file.save(fileName)"
   ]
  },
  {
   "cell_type": "code",
   "execution_count": 33,
   "metadata": {},
   "outputs": [],
   "source": [
    "def CreateMidiFileWithoutVel(path, name):\n",
    "    # define the file \n",
    "    file = mido.MidiFile(path)\n",
    "    # print(path)\n",
    "    \n",
    "    track = file.tracks[1]\n",
    "        \n",
    "    # Iterate over all the messages in the track\n",
    "    messages = []\n",
    "    for message in track:\n",
    "        # print(f'\\t{message.type}: {message.dict()}')\n",
    "        if(message.type == 'note_on' or message.type == 'note_off'):\n",
    "            # print(f'\\t{message.dict()}')\n",
    "            messages.append(message)\n",
    "            # track.remove(message)\n",
    "    \n",
    "    notes = [m.note for m in messages]\n",
    "    starts = [m.time for m in messages]\n",
    "    vels = [m.velocity == 0 for m in messages]\n",
    "\n",
    "    # creating the new file\n",
    "    createMidiFileWithAllMessagesWithoutVel(notes, starts, vels, name)"
   ]
  },
  {
   "cell_type": "code",
   "execution_count": 36,
   "metadata": {},
   "outputs": [],
   "source": [
    "CreateMidiFileWithoutVel('data/chopin/chp_op18.mid', \"camarchepas.mid\")"
   ]
  },
  {
   "cell_type": "code",
   "execution_count": null,
   "metadata": {},
   "outputs": [],
   "source": []
  },
  {
   "cell_type": "markdown",
   "metadata": {},
   "source": []
  }
 ],
 "metadata": {
  "kernelspec": {
   "display_name": "Python 3",
   "language": "python",
   "name": "python3"
  },
  "language_info": {
   "codemirror_mode": {
    "name": "ipython",
    "version": 3
   },
   "file_extension": ".py",
   "mimetype": "text/x-python",
   "name": "python",
   "nbconvert_exporter": "python",
   "pygments_lexer": "ipython3",
   "version": "3.11.4"
  }
 },
 "nbformat": 4,
 "nbformat_minor": 2
}
